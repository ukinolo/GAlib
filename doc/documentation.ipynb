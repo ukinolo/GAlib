{
 "cells": [
  {
   "cell_type": "markdown",
   "id": "65f95a30-17d3-424c-bdc9-6d22027fa757",
   "metadata": {
    "tags": []
   },
   "source": [
    "# Real coded genetic algorithm\n",
    "\n",
    "Author: Uros Nikolovski\n",
    "\n",
    "---"
   ]
  },
  {
   "cell_type": "markdown",
   "id": "9e9acfbb-9a4e-48d0-8632-c14783f5ecb9",
   "metadata": {},
   "source": [
    "## Contents"
   ]
  },
  {
   "cell_type": "markdown",
   "id": "d241c672-9b55-487c-bbe7-8b5631e77796",
   "metadata": {},
   "source": [
    "# #TODO"
   ]
  },
  {
   "cell_type": "markdown",
   "id": "8ac26ac6-b1c6-4a5d-8f94-cdff246e4f95",
   "metadata": {},
   "source": [
    "## Genetic algorithm description"
   ]
  },
  {
   "cell_type": "markdown",
   "id": "15dbac41-f11d-4043-9831-8b5bf6c5ce9a",
   "metadata": {
    "editable": true,
    "slideshow": {
     "slide_type": ""
    },
    "tags": []
   },
   "source": [
    "Genetic algorithm (GA) is optimization algorithm that belongs to the family of the evolutionary algorithms and is inspired by natural selection. In general, GAs can be used to search discrete or continuous spaces, values can be encoded or used as they are, even if they are binary. Single value in the search space is usually called <b>individual</b>. Set of individuals can have multiple names, based on their use.<br>\n",
    "\n",
    "<b>Population</b> is set of individuals that are 'alive' at the moment. What means for individual to be alive? Alive individuals are individuals that we are currently using to create a solution to our problem.<br>\n",
    "<b>Mating pool</b> is set of individuals chosen from the population to create offspring. You can have clones (same individuals) in the matting pool, in fact that is really common.<br>\n",
    "<b>Offspring</b> is set of individuals that is created from the mating pool using some special methods, called crossover. Individuals in the offspring can be also called offspring or children, while individuals in mating pool can be also called parents.<br>\n",
    "\n",
    "Genetic algorithm start with generating random individuals, creating our first population. After that starts the cycle:\n",
    "- Selection - choosing which individuals are going to enter mating pool.\n",
    "- Crossover - creating offspring\n",
    "- Mutation - mutating offspring individuals\n",
    "- Replacement(recombination) - combining offspring and population into a new population\n",
    "- If we are happy with our result, we are done; if not, repeat cycle\n",
    "\n",
    "A big question arises, how we know if we are happy with our result, we only have some dots in the search space. We need function that will map our individuals from the search space to the set of real numbers. That function is called <b>fitness function</b>."
   ]
  },
  {
   "cell_type": "markdown",
   "id": "ed776903-b71d-413c-880a-5bb78630470b",
   "metadata": {},
   "source": [
    "## GA in this project"
   ]
  },
  {
   "cell_type": "markdown",
   "id": "29962718-af84-4d49-a142-42469b5f8d0e",
   "metadata": {},
   "source": [
    "In this project we are going to work with real coded GA. That means that our individual will be real numbers. Also it is possible that individuals have multiple dimensions, in that case, they will be represented with the array of numbers, with each number representing one dimension of individual."
   ]
  },
  {
   "cell_type": "markdown",
   "id": "9c32089b-ad93-48a0-95bf-f9b3b3d21b22",
   "metadata": {},
   "source": [
    "## Imports"
   ]
  },
  {
   "cell_type": "code",
   "execution_count": 3,
   "id": "48862e6c-0a47-415d-9169-ab7f6aa09891",
   "metadata": {
    "editable": true,
    "slideshow": {
     "slide_type": ""
    },
    "tags": []
   },
   "outputs": [],
   "source": [
    "import numpy as np\n",
    "import random\n",
    "from enum import Enum\n",
    "\n",
    "#Checking things\n",
    "from typing import Callable\n",
    "import warnings\n",
    "#warnings.filterwarnings('ignore')\n",
    "\n",
    "#Visualization\n",
    "import matplotlib.pyplot as plt\n",
    "import matplotlib.patches as patches\n",
    "import seaborn as sns\n",
    "\n",
    "import time"
   ]
  },
  {
   "cell_type": "markdown",
   "id": "fec90bcf-c0db-4016-9585-b73ae8725f24",
   "metadata": {},
   "source": [
    "## Helping function"
   ]
  },
  {
   "cell_type": "markdown",
   "id": "6a8446f1-71b6-4bce-8b6c-69b28993c8b8",
   "metadata": {},
   "source": [
    "This function is used in every strategy to check if parameter is valid, and if not, it will raise an error or warning"
   ]
  },
  {
   "cell_type": "code",
   "execution_count": 4,
   "id": "3d32371f-2401-433e-993d-ee67249df9c1",
   "metadata": {
    "tags": []
   },
   "outputs": [],
   "source": [
    "def check_parameter(obj, param_name, method_name, strategy_name, default_value, valid_types, kwargs):\n",
    "    '''\n",
    "    Function creates propery named params in object obj. params is dictionary that will contain value from kwargs with string key param_name.\n",
    "    If value that is in kwargs does not meet the valid_types, value will be set to default_value.\n",
    "    kwargs is also a dictionary\n",
    "    '''\n",
    "    try:\n",
    "        obj.params\n",
    "    except AttributeError: #obj.params does not exist, so we are going to create it\n",
    "        obj.params = {}\n",
    "    try:\n",
    "        obj.params[param_name] = kwargs[param_name]\n",
    "    except KeyError:\n",
    "        obj.params[param_name] = None\n",
    "    if(obj.params[param_name] == None):\n",
    "        warnings.warn(f'Use {param_name}={valid_types} kayword argument when using {method_name} {strategy_name}')\n",
    "    if(not isinstance(obj.params[param_name], valid_types)):\n",
    "        obj.params[param_name] = None\n",
    "        warnings.warn(f'{param_name} must be {valid_types} type')\n",
    "    if(obj.params[param_name] is None):\n",
    "        obj.params[param_name] = default_value\n",
    "        warnings.warn(f'Setting default value for {param_name}={default_value}')"
   ]
  },
  {
   "cell_type": "markdown",
   "id": "9aa3ca3b-c1ec-4100-810f-cf2b871a5c8a",
   "metadata": {
    "editable": true,
    "slideshow": {
     "slide_type": ""
    },
    "tags": []
   },
   "source": [
    "## Fitness"
   ]
  },
  {
   "cell_type": "code",
   "execution_count": 3,
   "id": "64180180-d754-47a9-b0b4-ca68b065f188",
   "metadata": {
    "editable": true,
    "jupyter": {
     "source_hidden": true
    },
    "slideshow": {
     "slide_type": ""
    },
    "tags": []
   },
   "outputs": [],
   "source": [
    "class Fitness():\n",
    "    pass"
   ]
  },
  {
   "cell_type": "markdown",
   "id": "6c84881b-63a7-4a0b-8540-ea7b85fc0743",
   "metadata": {
    "editable": true,
    "slideshow": {
     "slide_type": ""
    },
    "tags": []
   },
   "source": [
    "Fitness is measure of how good the individuals in population are. Fitness function maps individuals to the real numbers so we can compare them. The greater the value the better the individual is."
   ]
  },
  {
   "cell_type": "markdown",
   "id": "ceae1575-49bb-4079-af7c-798c2d02f044",
   "metadata": {
    "editable": true,
    "slideshow": {
     "slide_type": ""
    },
    "tags": []
   },
   "source": [
    "### Diversity control"
   ]
  },
  {
   "cell_type": "markdown",
   "id": "8443c7ed-a846-4302-aec1-13defa626daf",
   "metadata": {
    "editable": true,
    "slideshow": {
     "slide_type": ""
    },
    "tags": []
   },
   "source": [
    "Fitness can also support diversity controls. Diversity control is algorithm that tracks how diverse the population of individuals is. If two individuals are really similar, their fitness value will be lowered. Even if the individuals are good, to much of the similar individuals, especially in the beginning of algorithm, can lead to premature convergence to the local optimum."
   ]
  },
  {
   "cell_type": "markdown",
   "id": "7c62f046-a268-4e1d-9d76-38305dbceea7",
   "metadata": {},
   "source": [
    "#### Neighborhood diversity control"
   ]
  },
  {
   "cell_type": "markdown",
   "id": "8cf2f894-71c5-4ad0-a25e-277a92836727",
   "metadata": {},
   "source": [
    "The number of individuals within the threshold distance of the observed individual is used by neighbor diversity control to determine the penalty. The fitness value is then divided by the penalty values to determine new fitness values."
   ]
  },
  {
   "cell_type": "code",
   "execution_count": 4,
   "id": "6371777c-cec6-432f-b780-f97951718804",
   "metadata": {
    "editable": true,
    "slideshow": {
     "slide_type": ""
    },
    "tags": []
   },
   "outputs": [],
   "source": [
    "class Fitness(Fitness):\n",
    "    def _neighbor_diversity_control(self, population: np.array) -> np.array:\n",
    "        threshold = self.params['threshold']\n",
    "        penalty = np.zeros(shape=(population.shape[0], 1))\n",
    "        for i in range(len(population)):\n",
    "            individual = population[i]\n",
    "            for j in range(len(population)):\n",
    "                other = population[j]\n",
    "                distance = sum([abs(individual[k] - other[k]) for k in range(len(individual))])\n",
    "                if distance < threshold:\n",
    "                    penalty[i] += 1\n",
    "        return penalty"
   ]
  },
  {
   "cell_type": "markdown",
   "id": "4f83a0a7-a89e-4ea3-a4bf-9ddf85867681",
   "metadata": {
    "editable": true,
    "slideshow": {
     "slide_type": ""
    },
    "tags": []
   },
   "source": [
    "### Fitness class"
   ]
  },
  {
   "cell_type": "code",
   "execution_count": 5,
   "id": "f8a5f3e7-eee1-4d69-8fd7-9b27a71b5859",
   "metadata": {
    "editable": true,
    "slideshow": {
     "slide_type": ""
    },
    "tags": []
   },
   "outputs": [],
   "source": [
    "class Fitness(Fitness):\n",
    "    VALID_DIVERSITY_CONTROL_STRATS = ['neighbor',\n",
    "                                     'None']\n",
    "    DEFAULT_THRESHOLD = 0.1\n",
    "    \n",
    "    def get_possible_strats(self):\n",
    "        return str(self.VALID_DIVERSITY_CONTROL_STRATS)\n",
    "        \n",
    "    def _check_strat(self, diversity_control_strat: str):\n",
    "        if not diversity_control_strat in self.VALID_DIVERSITY_CONTROL_STRATS:\n",
    "            raise ValueError('Diversity strategy name is not recognised, you can use diversity_control_strat=' + self.get_possible_strats())\n",
    "\n",
    "    def _set_diversity_control(self, diversity_control_strat: str, **kwargs):\n",
    "        if(diversity_control_strat == 'neighbor'):\n",
    "            self._diversity_control = self._neighbor_diversity_control\n",
    "            check_parameter(self, 'threshold', 'neighbor', 'diversity control', self.DEFAULT_THRESHOLD, (int, float), kwargs)\n",
    "            self.params['treshold'] = float(self.params['treshold'])\n",
    "\n",
    "        elif(diversity_control_strat == 'None'):\n",
    "            self._diversity_control = None\n",
    "        \n",
    "        else:\n",
    "            raise AssertionError('Fitness diversity control name exist in the valid diversity control strategies but was not found')\n",
    "    \n",
    "    def __init__(self, fitness_function: Callable, system_size, *, diversity_control_strat: str = 'None', threshold: float | None = None):\n",
    "        if(not isinstance(fitness_function, Callable)):\n",
    "            raise TypeError('fitness_function must be Callable')\n",
    "        try:\n",
    "            individual = np.zeros(system_size)\n",
    "            fitness_function(individual)\n",
    "        except IndexError:\n",
    "            raise IndexError('For your fitness function, this system size is too small')\n",
    "        self.system_size = system_size\n",
    "        self._diversity_control_strat = diversity_control_strat\n",
    "        self._check_strat(diversity_control_strat)\n",
    "        self._set_diversity_control(diversity_control_strat, threshold=threshold)\n",
    "        self.function = fitness_function\n",
    "\n",
    "    def get_info(self):\n",
    "        return f'Fitness have diversity control - {self._diversity_control_strat} with next parameters:'+ ('\\n\\t'.join(\"{0} = {1}\".format(key, value)  for key,value in self.params.items()) if self.params.items() else f'\\n\\tMethod have no parameters') "
   ]
  },
  {
   "cell_type": "markdown",
   "id": "caab5c60-c4f7-48fd-ade4-1bb7f8b7d515",
   "metadata": {
    "editable": true,
    "slideshow": {
     "slide_type": ""
    },
    "tags": []
   },
   "source": [
    "### Available methods"
   ]
  },
  {
   "cell_type": "code",
   "execution_count": 6,
   "id": "e24b375a-fe96-4d4a-b93f-264e3f61e8b7",
   "metadata": {
    "editable": true,
    "slideshow": {
     "slide_type": ""
    },
    "tags": []
   },
   "outputs": [],
   "source": [
    "class Fitness(Fitness):\n",
    "    def calculate_fitness(self, population: np.array) -> np.array:\n",
    "        fitness_values = np.apply_along_axis(self.function, 1, population)\n",
    "        penalty = self._diversity_control(population) if self._diversity_control != None else None\n",
    "        return fitness_values/penalty if penalty != None else fitness_values\n",
    "\n",
    "    def calculate_simple_fitness(self, population: np.array) -> np.array:\n",
    "        return np.apply_along_axis(self.function, 1, population)\n",
    "\n",
    "    def funciton(self, individual: np.array) -> float:\n",
    "        return self.function(individual)\n",
    "\n",
    "    def rank(self, population: np.array) -> np.array:\n",
    "        population_fitness = self.calculate_fitness(population)\n",
    "        return population[np.argsort(population_fitness)[::-1]]"
   ]
  },
  {
   "cell_type": "markdown",
   "id": "90d33e48-e642-48f6-b8e9-d986c05574d7",
   "metadata": {
    "editable": true,
    "slideshow": {
     "slide_type": ""
    },
    "tags": []
   },
   "source": [
    "## <a id=\"selection\">Selection</a>"
   ]
  },
  {
   "cell_type": "markdown",
   "id": "3c8a0c36-803f-4db5-b48f-93e32d35742c",
   "metadata": {
    "editable": true,
    "slideshow": {
     "slide_type": ""
    },
    "tags": []
   },
   "source": [
    "Selection is process of selecting individuals from population and it occurs two times during the GA cycle, once when we want to select individuals and put them in the mating pool. Second time when we created offspring and want to combine population with offspring to create a new population. Because there are two types of selection, in this project we will divide them in two: \n",
    "- [Selection strategy](#selection_strategy), describes which individuals we will put in the mating pool\n",
    "- [Replacement strategy](#replacement_strategy), describes how are we going combine offspring and population into a new population"
   ]
  },
  {
   "cell_type": "markdown",
   "id": "eabc3b96-60da-4828-ae53-59f7d8a37ff8",
   "metadata": {
    "editable": true,
    "slideshow": {
     "slide_type": ""
    },
    "tags": []
   },
   "source": [
    "## <a id='selection_strategy'>Selection strategy</a>"
   ]
  },
  {
   "cell_type": "markdown",
   "id": "7a496560-f5b9-4188-9cf8-e23f584920ac",
   "metadata": {
    "editable": true,
    "slideshow": {
     "slide_type": ""
    },
    "tags": []
   },
   "source": [
    "Selection strategy is describing how we choose individuals for mating pool."
   ]
  },
  {
   "cell_type": "markdown",
   "id": "f7cbf0aa-a913-46b3-ae59-cb9543b75fbb",
   "metadata": {
    "editable": true,
    "slideshow": {
     "slide_type": ""
    },
    "tags": []
   },
   "source": [
    "### Selection strategies:\n",
    "- [Roulette wheel selection](#roulette_wheel_selection)\n",
    "- [Scaled roulette wheel selection](#scaled_roulette_wheel_selection)\n",
    "- [Ranking selection](#ranking_selection)\n",
    "- [Tournament selection](#tournament_selection)\n",
    "- [Random selection](#random_selection)"
   ]
  },
  {
   "cell_type": "code",
   "execution_count": 8,
   "id": "11023bbe-04c8-456a-9806-44a621cad6eb",
   "metadata": {
    "editable": true,
    "slideshow": {
     "slide_type": ""
    },
    "tags": [
     "hide-input"
    ]
   },
   "outputs": [],
   "source": [
    "class Selection():\n",
    "    #This is not constructor intended to be used if you are not debugging or expanding library\n",
    "    def __init__(self, mode: str):\n",
    "        valid = ['debug', 'demo']\n",
    "        if not mode in valid:\n",
    "            raise ValueError('Unknown mode')"
   ]
  },
  {
   "cell_type": "markdown",
   "id": "e3bf0b89-de64-4d60-8a0d-df7a9c69d104",
   "metadata": {
    "editable": true,
    "slideshow": {
     "slide_type": ""
    },
    "tags": []
   },
   "source": [
    "---\n",
    "### <a id=\"roulette_wheel_selection\">Roulette wheel (fitness proportional) selection</a>\n",
    "Probability of selecting certain individual using roulette wheel selection is directly proportional to it's fitness value and inversely proportional to the total fitness of the population. Roulette wheel selection requires only positive fitness values.<br>\n",
    "$P(x) = \\text{fitness}(x)/\\sum_{\\text{s in population}}^{}\\text{fitness}(s)$<br>"
   ]
  },
  {
   "cell_type": "code",
   "execution_count": 9,
   "id": "510d14d6-dc8f-4d6c-9a5c-13cb1be8382b",
   "metadata": {
    "editable": true,
    "slideshow": {
     "slide_type": ""
    },
    "tags": []
   },
   "outputs": [],
   "source": [
    "class Selection(Selection):\n",
    "    def _roulette_wheel_selection(self, population: np.array, fitness: Fitness, number_of_individuals_to_select: int):\n",
    "        population_fitness = fitness.calculate_fitness(population)\n",
    "        total_fitness = sum(population_fitness)\n",
    "            \n",
    "        weights = ()\n",
    "        for fitness_value in population_fitness:\n",
    "            if(fitness_value < 0):\n",
    "                raise ValueError('Error fitness value can\\'t be negative')\n",
    "            weights += (fitness_value/total_fitness, )\n",
    "        \n",
    "        return np.array(random.choices(population, weights, k=number_of_individuals_to_select))"
   ]
  },
  {
   "cell_type": "markdown",
   "id": "9c453ff5-2745-402d-a2c9-8339af2646a2",
   "metadata": {
    "editable": true,
    "jp-MarkdownHeadingCollapsed": true,
    "slideshow": {
     "slide_type": ""
    },
    "tags": []
   },
   "source": [
    "#### Demo"
   ]
  },
  {
   "cell_type": "markdown",
   "id": "7cfa2e96-85a4-40b3-ad01-b20539cdb1f5",
   "metadata": {
    "editable": true,
    "slideshow": {
     "slide_type": ""
    },
    "tags": []
   },
   "source": [
    "The downside of roulette wheel approach is when we are optimizing $f(x)=ax^{2} + b$ the optimum does not depend on $b$ but when value of $b$ is proportionally larger than $ax^{2}$ then the selection pressure will be small."
   ]
  },
  {
   "cell_type": "markdown",
   "id": "32ba60e5-ef56-470a-9800-bbdb14a2416c",
   "metadata": {
    "editable": true,
    "slideshow": {
     "slide_type": ""
    },
    "tags": []
   },
   "source": [
    "In the next example we will look at the 2 same population, but we will select individuals based on the different fitness functions. First fitness function have no bias, and it evaluates individuals based on their sum of coordinates, second fitness adds 10 to that number.<br>\n",
    "$\\text{fitness1}(x) = x[0] + x[1]$<br>\n",
    "$\\text{fitness2}(x) = x[0] + x[1] + 10$<br>"
   ]
  },
  {
   "cell_type": "code",
   "execution_count": 10,
   "id": "27ab1207-2b01-4b8f-a493-69069404d309",
   "metadata": {
    "editable": true,
    "jupyter": {
     "source_hidden": true
    },
    "slideshow": {
     "slide_type": ""
    },
    "tags": [
     "hide-input"
    ]
   },
   "outputs": [
    {
     "name": "stderr",
     "output_type": "stream",
     "text": [
      "/home/ukinolo/.local/lib/python3.10/site-packages/seaborn/_oldcore.py:1498: FutureWarning: is_categorical_dtype is deprecated and will be removed in a future version. Use isinstance(dtype, CategoricalDtype) instead\n",
      "  if pd.api.types.is_categorical_dtype(vector):\n",
      "/home/ukinolo/.local/lib/python3.10/site-packages/seaborn/_oldcore.py:1498: FutureWarning: is_categorical_dtype is deprecated and will be removed in a future version. Use isinstance(dtype, CategoricalDtype) instead\n",
      "  if pd.api.types.is_categorical_dtype(vector):\n",
      "/home/ukinolo/.local/lib/python3.10/site-packages/seaborn/_oldcore.py:1498: FutureWarning: is_categorical_dtype is deprecated and will be removed in a future version. Use isinstance(dtype, CategoricalDtype) instead\n",
      "  if pd.api.types.is_categorical_dtype(vector):\n",
      "/home/ukinolo/.local/lib/python3.10/site-packages/seaborn/_oldcore.py:1498: FutureWarning: is_categorical_dtype is deprecated and will be removed in a future version. Use isinstance(dtype, CategoricalDtype) instead\n",
      "  if pd.api.types.is_categorical_dtype(vector):\n",
      "/home/ukinolo/.local/lib/python3.10/site-packages/seaborn/_oldcore.py:1765: FutureWarning: unique with argument that is not not a Series, Index, ExtensionArray, or np.ndarray is deprecated and will raise in a future version.\n",
      "  order = pd.unique(vector)\n",
      "/home/ukinolo/.local/lib/python3.10/site-packages/seaborn/_oldcore.py:1498: FutureWarning: is_categorical_dtype is deprecated and will be removed in a future version. Use isinstance(dtype, CategoricalDtype) instead\n",
      "  if pd.api.types.is_categorical_dtype(vector):\n",
      "/home/ukinolo/.local/lib/python3.10/site-packages/seaborn/_oldcore.py:1498: FutureWarning: is_categorical_dtype is deprecated and will be removed in a future version. Use isinstance(dtype, CategoricalDtype) instead\n",
      "  if pd.api.types.is_categorical_dtype(vector):\n",
      "/home/ukinolo/.local/lib/python3.10/site-packages/seaborn/_oldcore.py:1498: FutureWarning: is_categorical_dtype is deprecated and will be removed in a future version. Use isinstance(dtype, CategoricalDtype) instead\n",
      "  if pd.api.types.is_categorical_dtype(vector):\n",
      "/home/ukinolo/.local/lib/python3.10/site-packages/seaborn/_oldcore.py:1498: FutureWarning: is_categorical_dtype is deprecated and will be removed in a future version. Use isinstance(dtype, CategoricalDtype) instead\n",
      "  if pd.api.types.is_categorical_dtype(vector):\n",
      "/home/ukinolo/.local/lib/python3.10/site-packages/seaborn/_oldcore.py:1498: FutureWarning: is_categorical_dtype is deprecated and will be removed in a future version. Use isinstance(dtype, CategoricalDtype) instead\n",
      "  if pd.api.types.is_categorical_dtype(vector):\n",
      "/home/ukinolo/.local/lib/python3.10/site-packages/seaborn/_oldcore.py:1765: FutureWarning: unique with argument that is not not a Series, Index, ExtensionArray, or np.ndarray is deprecated and will raise in a future version.\n",
      "  order = pd.unique(vector)\n",
      "/home/ukinolo/.local/lib/python3.10/site-packages/seaborn/_oldcore.py:1498: FutureWarning: is_categorical_dtype is deprecated and will be removed in a future version. Use isinstance(dtype, CategoricalDtype) instead\n",
      "  if pd.api.types.is_categorical_dtype(vector):\n",
      "/home/ukinolo/.local/lib/python3.10/site-packages/seaborn/_oldcore.py:1498: FutureWarning: is_categorical_dtype is deprecated and will be removed in a future version. Use isinstance(dtype, CategoricalDtype) instead\n",
      "  if pd.api.types.is_categorical_dtype(vector):\n",
      "/home/ukinolo/.local/lib/python3.10/site-packages/seaborn/_oldcore.py:1498: FutureWarning: is_categorical_dtype is deprecated and will be removed in a future version. Use isinstance(dtype, CategoricalDtype) instead\n",
      "  if pd.api.types.is_categorical_dtype(vector):\n",
      "/home/ukinolo/.local/lib/python3.10/site-packages/seaborn/_oldcore.py:1765: FutureWarning: unique with argument that is not not a Series, Index, ExtensionArray, or np.ndarray is deprecated and will raise in a future version.\n",
      "  order = pd.unique(vector)\n",
      "/home/ukinolo/.local/lib/python3.10/site-packages/seaborn/_oldcore.py:1498: FutureWarning: is_categorical_dtype is deprecated and will be removed in a future version. Use isinstance(dtype, CategoricalDtype) instead\n",
      "  if pd.api.types.is_categorical_dtype(vector):\n",
      "/home/ukinolo/.local/lib/python3.10/site-packages/seaborn/_oldcore.py:1498: FutureWarning: is_categorical_dtype is deprecated and will be removed in a future version. Use isinstance(dtype, CategoricalDtype) instead\n",
      "  if pd.api.types.is_categorical_dtype(vector):\n",
      "/home/ukinolo/.local/lib/python3.10/site-packages/seaborn/_oldcore.py:1498: FutureWarning: is_categorical_dtype is deprecated and will be removed in a future version. Use isinstance(dtype, CategoricalDtype) instead\n",
      "  if pd.api.types.is_categorical_dtype(vector):\n",
      "/home/ukinolo/.local/lib/python3.10/site-packages/seaborn/_oldcore.py:1765: FutureWarning: unique with argument that is not not a Series, Index, ExtensionArray, or np.ndarray is deprecated and will raise in a future version.\n",
      "  order = pd.unique(vector)\n",
      "/home/ukinolo/.local/lib/python3.10/site-packages/seaborn/_oldcore.py:1498: FutureWarning: is_categorical_dtype is deprecated and will be removed in a future version. Use isinstance(dtype, CategoricalDtype) instead\n",
      "  if pd.api.types.is_categorical_dtype(vector):\n"
     ]
    },
    {
     "data": {
      "image/png": "[encoded data removed]",
      "text/plain": [
       "<Figure size 2000x500 with 2 Axes>"
      ]
     },
     "metadata": {},
     "output_type": "display_data"
    },
    {
     "data": {
      "image/png": "[encoded data removed]",
      "text/plain": [
       "<Figure size 2000x500 with 2 Axes>"
      ]
     },
     "metadata": {},
     "output_type": "display_data"
    },
    {
     "data": {
      "image/png": "[encoded data removed]",
      "text/plain": [
       "<Figure size 2000x1100 with 2 Axes>"
      ]
     },
     "metadata": {},
     "output_type": "display_data"
    }
   ],
   "source": [
    "selection = Selection('demo')\n",
    "\n",
    "number_of_individuals = 20\n",
    "number_of_individuals_to_select = 40\n",
    "\n",
    "fitness_function1 = lambda x: x[0] + x[1] #Simple fitness function, the bigger the sum of coordinates is, the better the individual is\n",
    "fitness_function2 = lambda x: x[0] + x[1] + 10 #Same as previous one, but with bias 10\n",
    "\n",
    "fitness1 = Fitness(fitness_function1, 2)\n",
    "fitness2 = Fitness(fitness_function2, 2)\n",
    "\n",
    "population1 = np.empty(shape=(number_of_individuals, 2))\n",
    "\n",
    "#Assigning random values [0, 1) to individuals\n",
    "for individual in population1:\n",
    "    individual[0] = random.random()\n",
    "    individual[1] = random.random()\n",
    "\n",
    "population1_fitness1 = fitness1.rank(population1)\n",
    "population1_fitness2 = fitness2.rank(population1)\n",
    "\n",
    "mating_pool1 = selection._roulette_wheel_selection(population1_fitness1, fitness1, number_of_individuals_to_select)\n",
    "mating_pool2 = selection._roulette_wheel_selection(population1_fitness2, fitness2, number_of_individuals_to_select)\n",
    "\n",
    "#Plotting population 1 info using fitness 2\n",
    "fig1, axs1 = plt.subplots(ncols=2, width_ratios=[1, 2], figsize=(20, 5))\n",
    "sns.scatterplot(x=[individual[0] for individual in population1_fitness1], y=[individual[1] for individual in population1_fitness1], ax=axs1[0])\n",
    "sns.barplot(x=[str(i) for i in range(1, len(population1_fitness1) + 1)], y=fitness1.calculate_fitness(population1_fitness1), ax=axs1[1])\n",
    "fig1.suptitle('Analysis of population1 with fitness1')\n",
    "axs1[0].set_title('Population1 graphed')\n",
    "axs1[1].set_title('Population1 fitness1 values')\n",
    "axs1[0].set_xlabel('individual[0]')\n",
    "axs1[0].set_ylabel('individual[1]')\n",
    "axs1[1].set_xlabel('Individual rank')\n",
    "axs1[1].set_ylabel('Individual fitness1 value')\n",
    "\n",
    "#Plotting population 1 info using fitness 2\n",
    "fig2, axs2 = plt.subplots(ncols=2, width_ratios=[1, 2], figsize=(20, 5))\n",
    "sns.scatterplot(x=[individual[0] for individual in population1_fitness2], y=[individual[1] for individual in population1_fitness2], ax=axs2[0])\n",
    "sns.barplot(x=[str(i) for i in range(1, len(population1_fitness2) + 1)], y=fitness2.calculate_fitness(population1_fitness2), ax=axs2[1])\n",
    "fig2.suptitle('Analysis of population1 with fitness2')\n",
    "axs2[0].set_title('Population1 graphed')\n",
    "axs2[1].set_title('Population1 fitness2 values')\n",
    "axs2[0].set_xlabel('individual[0]')\n",
    "axs2[0].set_ylabel('individual[1]')\n",
    "axs2[1].set_xlabel('Individual rank')\n",
    "axs2[1].set_ylabel('Individual fitness2 value')\n",
    "\n",
    "#Counting every individual appearance in mating pool\n",
    "appearance1 = np.empty(number_of_individuals)\n",
    "appearance2 = np.empty(number_of_individuals)\n",
    "\n",
    "for i in range(number_of_individuals):\n",
    "    individual1 = population1_fitness1[i]\n",
    "    individual2 = population1_fitness2[i]\n",
    "\n",
    "    appearance1[i] = sum([x[0] == individual1[0] and x[1] == individual1[1] for x in mating_pool1])\n",
    "    appearance2[i] = sum([x[0] == individual2[0] and x[1] == individual2[1] for x in mating_pool2])\n",
    "\n",
    "#Plotting mating pool info\n",
    "fig3, axs3 = plt.subplots(nrows=2, height_ratios=[1,1], figsize=(20, 11))\n",
    "sns.barplot(x=[str(i) for i in range(1, len(population1_fitness1) + 1)], y=appearance1, ax=axs3[0])\n",
    "sns.barplot(x=[str(i) for i in range(1, len(population1_fitness2) + 1)], y=appearance2, ax=axs3[1])\n",
    "fig3.suptitle('Analysis of mating pools')\n",
    "axs3[0].set_title('Population1 mating pool with fitness1')\n",
    "axs3[1].set_title('Population1 mating pool with fitness2')\n",
    "axs3[0].set_xlabel('Ranks of population1')\n",
    "axs3[0].set_ylabel('Number of times individual was selected')\n",
    "axs3[1].set_xlabel('Ranks of population1')\n",
    "axs3[1].set_ylabel('Number of times individual was selected')\n",
    "fig3.tight_layout(pad=2.5)"
   ]
  },
  {
   "cell_type": "markdown",
   "id": "a067bbe1-2f36-4067-8d9c-3b078e0577cc",
   "metadata": {
    "editable": true,
    "slideshow": {
     "slide_type": ""
    },
    "tags": []
   },
   "source": [
    "As we can see on the graphs of the selected individuals the selection pressure of the individuals in the fitness 2 mating pool is smaller because of the strong bias. Selected individuals in mating pool 2 look more like a random selected individuals, while in the first population we see that the first half of the better individuals are selected more often than the worst half.<br>"
   ]
  },
  {
   "cell_type": "markdown",
   "id": "aba795b7-bfbe-418b-be29-3eb6827a9b54",
   "metadata": {
    "editable": true,
    "slideshow": {
     "slide_type": ""
    },
    "tags": []
   },
   "source": [
    "---\n",
    "### <a id=\"scaled_roulette_wheel_selection\">Scaled roulette wheel (scaled fitness proportional) selection</a>\n",
    "Scaled roulette wheel selection is similar to the basic roulette wheel selection in case that probability of selecting the individual is directly proportional to it's fitness, but it is inversely proportional to the fitness value of the worst individual. And same as with the roulette wheel selection, scaled version only works with positive fitness values.<br>\n",
    "$P(x) = \\text{fitness}(x)/\\min_{\\forall s \\in \\text{Population}} (\\text{fitness}(s))$<br>"
   ]
  },
  {
   "cell_type": "code",
   "execution_count": 11,
   "id": "0bc47b9a-7cad-4d90-bb98-029a767d9cc0",
   "metadata": {
    "editable": true,
    "slideshow": {
     "slide_type": ""
    },
    "tags": []
   },
   "outputs": [],
   "source": [
    "class Selection(Selection):\n",
    "    def _scaled_roulette_wheel_selection(self, population: np.array, fitness: Callable, number_of_individuals_to_select: int):\n",
    "        population_fitness = fitness.calculate_fitness(population)\n",
    "        min_fitness = min(population_fitness)\n",
    "        if min_fitness < 0:\n",
    "            raise ValueError('Error fitness value can\\'t be negative')\n",
    "            \n",
    "        weights = ()\n",
    "        for fitness_value in population_fitness:\n",
    "            weights += (fitness_value/min_fitness, )\n",
    "        \n",
    "        return np.array(random.choices(population, weights, k=number_of_individuals_to_select))"
   ]
  },
  {
   "cell_type": "markdown",
   "id": "6775d407-f3ad-4341-98e0-941a981b410f",
   "metadata": {
    "editable": true,
    "jp-MarkdownHeadingCollapsed": true,
    "slideshow": {
     "slide_type": ""
    },
    "tags": []
   },
   "source": [
    "#### Demo"
   ]
  },
  {
   "cell_type": "markdown",
   "id": "02201af9-92cf-4765-8014-8265c0298af3",
   "metadata": {
    "editable": true,
    "slideshow": {
     "slide_type": ""
    },
    "tags": []
   },
   "source": [
    "Scaled roulette wheel selection solves the problem that we outlined about roulette wheel selection.<br>\n",
    "However, problem with this selection is that selection pressure is too large and if we have one individual that is outperforming everyone else, that individual can overcrowd mating pool."
   ]
  },
  {
   "cell_type": "markdown",
   "id": "b3a499d0-6c19-440c-8815-be43352f51a5",
   "metadata": {
    "editable": true,
    "slideshow": {
     "slide_type": ""
    },
    "tags": []
   },
   "source": [
    "In the next example we will look at two different populations. In the first one we have totally random individuals. In the second one we have 3 really good individuals and other ones are just random. In both cases we are using the same fitness function.<br>\n",
    "$\\text{fitness}(x) = x[0] + x[1]$<br>"
   ]
  },
  {
   "cell_type": "code",
   "execution_count": 12,
   "id": "ceeb6fe5-ce6b-4c63-a70a-267ababfb3ac",
   "metadata": {
    "editable": true,
    "jupyter": {
     "source_hidden": true
    },
    "slideshow": {
     "slide_type": ""
    },
    "tags": [
     "hide-input"
    ]
   },
   "outputs": [
    {
     "name": "stderr",
     "output_type": "stream",
     "text": [
      "/home/ukinolo/.local/lib/python3.10/site-packages/seaborn/_oldcore.py:1498: FutureWarning: is_categorical_dtype is deprecated and will be removed in a future version. Use isinstance(dtype, CategoricalDtype) instead\n",
      "  if pd.api.types.is_categorical_dtype(vector):\n",
      "/home/ukinolo/.local/lib/python3.10/site-packages/seaborn/_oldcore.py:1498: FutureWarning: is_categorical_dtype is deprecated and will be removed in a future version. Use isinstance(dtype, CategoricalDtype) instead\n",
      "  if pd.api.types.is_categorical_dtype(vector):\n",
      "/home/ukinolo/.local/lib/python3.10/site-packages/seaborn/_oldcore.py:1498: FutureWarning: is_categorical_dtype is deprecated and will be removed in a future version. Use isinstance(dtype, CategoricalDtype) instead\n",
      "  if pd.api.types.is_categorical_dtype(vector):\n",
      "/home/ukinolo/.local/lib/python3.10/site-packages/seaborn/_oldcore.py:1498: FutureWarning: is_categorical_dtype is deprecated and will be removed in a future version. Use isinstance(dtype, CategoricalDtype) instead\n",
      "  if pd.api.types.is_categorical_dtype(vector):\n",
      "/home/ukinolo/.local/lib/python3.10/site-packages/seaborn/_oldcore.py:1765: FutureWarning: unique with argument that is not not a Series, Index, ExtensionArray, or np.ndarray is deprecated and will raise in a future version.\n",
      "  order = pd.unique(vector)\n",
      "/home/ukinolo/.local/lib/python3.10/site-packages/seaborn/_oldcore.py:1498: FutureWarning: is_categorical_dtype is deprecated and will be removed in a future version. Use isinstance(dtype, CategoricalDtype) instead\n",
      "  if pd.api.types.is_categorical_dtype(vector):\n",
      "/home/ukinolo/.local/lib/python3.10/site-packages/seaborn/_oldcore.py:1498: FutureWarning: is_categorical_dtype is deprecated and will be removed in a future version. Use isinstance(dtype, CategoricalDtype) instead\n",
      "  if pd.api.types.is_categorical_dtype(vector):\n",
      "/home/ukinolo/.local/lib/python3.10/site-packages/seaborn/_oldcore.py:1498: FutureWarning: is_categorical_dtype is deprecated and will be removed in a future version. Use isinstance(dtype, CategoricalDtype) instead\n",
      "  if pd.api.types.is_categorical_dtype(vector):\n",
      "/home/ukinolo/.local/lib/python3.10/site-packages/seaborn/_oldcore.py:1498: FutureWarning: is_categorical_dtype is deprecated and will be removed in a future version. Use isinstance(dtype, CategoricalDtype) instead\n",
      "  if pd.api.types.is_categorical_dtype(vector):\n",
      "/home/ukinolo/.local/lib/python3.10/site-packages/seaborn/_oldcore.py:1498: FutureWarning: is_categorical_dtype is deprecated and will be removed in a future version. Use isinstance(dtype, CategoricalDtype) instead\n",
      "  if pd.api.types.is_categorical_dtype(vector):\n",
      "/home/ukinolo/.local/lib/python3.10/site-packages/seaborn/_oldcore.py:1765: FutureWarning: unique with argument that is not not a Series, Index, ExtensionArray, or np.ndarray is deprecated and will raise in a future version.\n",
      "  order = pd.unique(vector)\n",
      "/home/ukinolo/.local/lib/python3.10/site-packages/seaborn/_oldcore.py:1498: FutureWarning: is_categorical_dtype is deprecated and will be removed in a future version. Use isinstance(dtype, CategoricalDtype) instead\n",
      "  if pd.api.types.is_categorical_dtype(vector):\n",
      "/home/ukinolo/.local/lib/python3.10/site-packages/seaborn/_oldcore.py:1498: FutureWarning: is_categorical_dtype is deprecated and will be removed in a future version. Use isinstance(dtype, CategoricalDtype) instead\n",
      "  if pd.api.types.is_categorical_dtype(vector):\n",
      "/home/ukinolo/.local/lib/python3.10/site-packages/seaborn/_oldcore.py:1498: FutureWarning: is_categorical_dtype is deprecated and will be removed in a future version. Use isinstance(dtype, CategoricalDtype) instead\n",
      "  if pd.api.types.is_categorical_dtype(vector):\n",
      "/home/ukinolo/.local/lib/python3.10/site-packages/seaborn/_oldcore.py:1765: FutureWarning: unique with argument that is not not a Series, Index, ExtensionArray, or np.ndarray is deprecated and will raise in a future version.\n",
      "  order = pd.unique(vector)\n",
      "/home/ukinolo/.local/lib/python3.10/site-packages/seaborn/_oldcore.py:1498: FutureWarning: is_categorical_dtype is deprecated and will be removed in a future version. Use isinstance(dtype, CategoricalDtype) instead\n",
      "  if pd.api.types.is_categorical_dtype(vector):\n",
      "/home/ukinolo/.local/lib/python3.10/site-packages/seaborn/_oldcore.py:1498: FutureWarning: is_categorical_dtype is deprecated and will be removed in a future version. Use isinstance(dtype, CategoricalDtype) instead\n",
      "  if pd.api.types.is_categorical_dtype(vector):\n",
      "/home/ukinolo/.local/lib/python3.10/site-packages/seaborn/_oldcore.py:1498: FutureWarning: is_categorical_dtype is deprecated and will be removed in a future version. Use isinstance(dtype, CategoricalDtype) instead\n",
      "  if pd.api.types.is_categorical_dtype(vector):\n",
      "/home/ukinolo/.local/lib/python3.10/site-packages/seaborn/_oldcore.py:1765: FutureWarning: unique with argument that is not not a Series, Index, ExtensionArray, or np.ndarray is deprecated and will raise in a future version.\n",
      "  order = pd.unique(vector)\n",
      "/home/ukinolo/.local/lib/python3.10/site-packages/seaborn/_oldcore.py:1498: FutureWarning: is_categorical_dtype is deprecated and will be removed in a future version. Use isinstance(dtype, CategoricalDtype) instead\n",
      "  if pd.api.types.is_categorical_dtype(vector):\n"
     ]
    },
    {
     "data": {
      "image/png": "[encoded data removed]",
      "text/plain": [
       "<Figure size 2000x500 with 2 Axes>"
      ]
     },
     "metadata": {},
     "output_type": "display_data"
    },
    {
     "data": {
      "image/png": "[encoded data removed]",
      "text/plain": [
       "<Figure size 2000x500 with 2 Axes>"
      ]
     },
     "metadata": {},
     "output_type": "display_data"
    },
    {
     "data": {
      "image/png": "[encoded data removed]",
      "text/plain": [
       "<Figure size 2000x1100 with 2 Axes>"
      ]
     },
     "metadata": {},
     "output_type": "display_data"
    }
   ],
   "source": [
    "selection = Selection('demo')\n",
    "\n",
    "number_of_individuals = 20\n",
    "number_of_individuals_to_select = 40\n",
    "\n",
    "fitness_function = lambda x: x[0] + x[1] #Simple fitness function, the bigger the sum of coordinates are, the better the individual is\n",
    "\n",
    "fitness = Fitness(fitness_function, 2)\n",
    "\n",
    "#Creating empty population\n",
    "population1 = np.empty(shape=(number_of_individuals, 2))\n",
    "population2 = np.empty(shape=(number_of_individuals, 2))\n",
    "\n",
    "#Assigning random values [0, 1) to individuals\n",
    "for individual in population1:\n",
    "    individual[0] = random.random()\n",
    "    individual[1] = random.random()\n",
    "for individual in population2:\n",
    "    individual[0] = random.random()\n",
    "    individual[1] = random.random()\n",
    "\n",
    "#Making first 3 individuals of population 2 be better than others\n",
    "for individual in population2[-1:-4:-1]:\n",
    "    individual[0] *= 12\n",
    "    individual[1] *= 12\n",
    "\n",
    "population1 = fitness.rank(population1)\n",
    "population2 = fitness.rank(population2)\n",
    "\n",
    "mating_pool1 = selection._scaled_roulette_wheel_selection(population1, fitness, number_of_individuals_to_select)\n",
    "mating_pool2 = selection._scaled_roulette_wheel_selection(population2, fitness, number_of_individuals_to_select)\n",
    "\n",
    "#Plotting population 1 info\n",
    "fig1, axs1 = plt.subplots(ncols=2, width_ratios=[1, 2], figsize=(20, 5))\n",
    "sns.set_theme(style='darkgrid', context='notebook')\n",
    "sns.scatterplot(x=[individual[0] for individual in population1], y=[individual[1] for individual in population1], ax=axs1[0])\n",
    "sns.barplot(x=[str(i) for i in range(1, len(population1) + 1)], y=fitness.calculate_fitness(population1), ax=axs1[1])\n",
    "fig1.suptitle('Analysis of population1')\n",
    "axs1[0].set_title('Population1 graphed')\n",
    "axs1[1].set_title('Population1 fitness')\n",
    "axs1[0].set_xlabel('individual[0]')\n",
    "axs1[0].set_ylabel('individual[1]')\n",
    "axs1[1].set_xlabel('Individual rank')\n",
    "axs1[1].set_ylabel('Individual fitness value')\n",
    "\n",
    "#Plotting population 2 info\n",
    "fig2, axs2 = plt.subplots(ncols=2, width_ratios=[1, 2], figsize=(20, 5))\n",
    "sns.set_theme(style='darkgrid', context='notebook')\n",
    "sns.scatterplot(x=[individual[0] for individual in population2], y=[individual[1] for individual in population2], ax=axs2[0])\n",
    "sns.barplot(x=[str(i) for i in range(1, len(population2) + 1)], y=fitness.calculate_fitness(population2), ax=axs2[1])\n",
    "fig2.suptitle('Analysis of population2')\n",
    "axs2[0].set_title('Population2 graphed')\n",
    "axs2[1].set_title('Population2 fitness')\n",
    "axs2[0].set_xlabel('individual[0]')\n",
    "axs2[0].set_ylabel('individual[1]')\n",
    "axs2[1].set_xlabel('Individual rank')\n",
    "axs2[1].set_ylabel('Individual fitness value')\n",
    "\n",
    "#Counting every individual appearance in mating pool\n",
    "appearance1 = np.empty(number_of_individuals)\n",
    "appearance2 = np.empty(number_of_individuals)\n",
    "\n",
    "for i in range(number_of_individuals):\n",
    "    individual1 = population1[i]\n",
    "    individual2 = population2[i]\n",
    "\n",
    "    appearance1[i] = sum([x[0] == individual1[0] and x[1] == individual1[1] for x in mating_pool1])\n",
    "    appearance2[i] = sum([x[0] == individual2[0] and x[1] == individual2[1] for x in mating_pool2])\n",
    "\n",
    "#Plotting mating pool info\n",
    "fig3, axs3 = plt.subplots(nrows=2, height_ratios=[1,1], figsize=(20, 11))\n",
    "sns.barplot(x=[str(i) for i in range(1, len(population1) + 1)], y=appearance1, ax=axs3[0])\n",
    "sns.barplot(x=[str(i) for i in range(1, len(population2) + 1)], y=appearance2, ax=axs3[1])\n",
    "fig3.suptitle('Analysis of mating pools')\n",
    "axs3[0].set_title('Population1 mating pool')\n",
    "axs3[1].set_title('Population2 mating pool')\n",
    "axs3[0].set_xlabel('Ranks of population1')\n",
    "axs3[0].set_ylabel('Number of times individual was selected')\n",
    "axs3[1].set_xlabel('Ranks of population2')\n",
    "axs3[1].set_ylabel('Number of times individual was selected')\n",
    "fig3.tight_layout(pad=2.5)"
   ]
  },
  {
   "cell_type": "markdown",
   "id": "2ec9d2c0-467f-48bb-b6e4-f6534b74b233",
   "metadata": {
    "editable": true,
    "slideshow": {
     "slide_type": ""
    },
    "tags": []
   },
   "source": [
    "In this example we are showing that populations with individuals with much greater fitness values will be susceptible to one individual occupying big portion of the mating pool. The opposite could happen too. If we have one really bad individual the weights of selecting others will be pretty close because everyone is much better than the last individual."
   ]
  },
  {
   "cell_type": "markdown",
   "id": "96516286-9d57-4daa-a3d9-3bbad34b6143",
   "metadata": {
    "editable": true,
    "slideshow": {
     "slide_type": ""
    },
    "tags": []
   },
   "source": [
    "---\n",
    "### <a id=\"ranking_selection\">Ranking selection</a>\n",
    "Ranking selection does not select individuals based on their fitness values. It sorts individuals by fitness value and looks at their rank and selects them by rank.<br>"
   ]
  },
  {
   "cell_type": "markdown",
   "id": "f04a484d-a583-40cc-b930-a02145d455a1",
   "metadata": {
    "editable": true,
    "slideshow": {
     "slide_type": ""
    },
    "tags": []
   },
   "source": [
    "Parameters:<br>\n",
    "<b>max_rank_multiplier</b> is float that represents how many times the best individual will be more likely to be selected than the worst. After the best individual, the probability linearly drops with rank."
   ]
  },
  {
   "cell_type": "code",
   "execution_count": 13,
   "id": "c1775cc4-0ce1-4f13-9698-07e9210f8a1d",
   "metadata": {
    "editable": true,
    "slideshow": {
     "slide_type": ""
    },
    "tags": []
   },
   "outputs": [],
   "source": [
    "class Selection(Selection):\n",
    "    def _ranking_selection(self, population: np.array, fitness: Fitness, number_of_individuals_to_select: int):\n",
    "        max_rank_multiplier = self.params['max_rank_multiplier']\n",
    "        population = fitness.rank(population)\n",
    "        weights = ()\n",
    "        for i in range(len(population)):\n",
    "            weights += (round((1 - max_rank_multiplier)/(len(population) - 1) * i + max_rank_multiplier, 3), )\n",
    "        \n",
    "        return np.array(random.choices(population, weights, k=number_of_individuals_to_select))"
   ]
  },
  {
   "cell_type": "markdown",
   "id": "73cf4d60-35da-4428-b1ee-9a255210aa3e",
   "metadata": {
    "editable": true,
    "jp-MarkdownHeadingCollapsed": true,
    "slideshow": {
     "slide_type": ""
    },
    "tags": []
   },
   "source": [
    "#### Demo"
   ]
  },
  {
   "cell_type": "markdown",
   "id": "766148e8-7fbd-4e68-b161-aae75992623a",
   "metadata": {
    "editable": true,
    "slideshow": {
     "slide_type": ""
    },
    "tags": []
   },
   "source": [
    "As we can see from looking at how ranking selection works, if we know one individual is 10 times better than other individual it won't be 10 times more likely to be chosen. This could be both good and bad, because ranking selection does not take into account how much one individual is better or worse than another."
   ]
  },
  {
   "cell_type": "markdown",
   "id": "ad4f0a57-977b-4fff-841c-d08a04357ba3",
   "metadata": {
    "editable": true,
    "slideshow": {
     "slide_type": ""
    },
    "tags": []
   },
   "source": [
    "In the following example we will look at the two different populations. In the first one we have 3 really good individuals, in the second one, we have 3 really bad individuals. In both cases we are using the same fitness function.<br> \n",
    "$\\text{fitness1}(x) = x[0] + x[1]$<br>"
   ]
  },
  {
   "cell_type": "code",
   "execution_count": null,
   "id": "33a6e468-e9a9-4f1c-bdda-5067a4175adb",
   "metadata": {
    "editable": true,
    "jupyter": {
     "source_hidden": true
    },
    "slideshow": {
     "slide_type": ""
    },
    "tags": [
     "hide-input"
    ]
   },
   "outputs": [],
   "source": [
    "selection = Selection('demo')\n",
    "selection._max_rank_multiplier = 20\n",
    "\n",
    "number_of_individuals = 20\n",
    "number_of_individuals_to_select = 40\n",
    "\n",
    "fitness_function = lambda x: x[0] + x[1] #Simple fitness function, the bigger the sum of coordinates are, the better the individual is\n",
    "\n",
    "fitness = Fitness(fitness_function, 2)\n",
    "\n",
    "#Creating empty population\n",
    "population1 = np.empty(shape=(number_of_individuals, 2))\n",
    "population2 = np.empty(shape=(number_of_individuals, 2))\n",
    "\n",
    "#Assigning random values [0, 1) to individuals\n",
    "for individual in population1:\n",
    "    individual[0] = random.random()\n",
    "    individual[1] = random.random()\n",
    "for individual in population2:\n",
    "    individual[0] = random.random()\n",
    "    individual[1] = random.random()\n",
    "\n",
    "#Making 3 individuals of population 1 be better than others\n",
    "for individual in population1[1:4]:\n",
    "    individual[0] *= 12\n",
    "    individual[1] *= 12\n",
    "\n",
    "#Making 3 individuals of population 2 be worst than others\n",
    "for individual in population2[1:4]:\n",
    "    individual[0] /= 12\n",
    "    individual[1] /= 12\n",
    "\n",
    "population1 = fitness.rank(population1)\n",
    "population2 = fitness.rank(population2)\n",
    "\n",
    "mating_pool1 = selection._ranking_selection(population1, fitness, number_of_individuals_to_select)\n",
    "mating_pool2 = selection._ranking_selection(population2, fitness, number_of_individuals_to_select)\n",
    "\n",
    "#Plotting population 1 info\n",
    "fig1, axs1 = plt.subplots(ncols=2, width_ratios=[1, 2], figsize=(20, 5))\n",
    "sns.set_theme(style='darkgrid', context='notebook')\n",
    "sns.scatterplot(x=[individual[0] for individual in population1], y=[individual[1] for individual in population1], ax=axs1[0])\n",
    "sns.barplot(x=[str(i) for i in range(1, len(population1) + 1)], y=fitness.calculate_fitness(population1), ax=axs1[1])\n",
    "fig1.suptitle('Analysis of population1')\n",
    "axs1[0].set_title('Population1 graphed')\n",
    "axs1[1].set_title('Population1 fitness')\n",
    "axs1[0].set_xlabel('individual[0]')\n",
    "axs1[0].set_ylabel('individual[1]')\n",
    "axs1[1].set_xlabel('Individual rank')\n",
    "axs1[1].set_ylabel('Individual fitness value')\n",
    "\n",
    "#Plotting population 2 info\n",
    "fig2, axs2 = plt.subplots(ncols=2, width_ratios=[1, 2], figsize=(20, 5))\n",
    "sns.set_theme(style='darkgrid', context='notebook')\n",
    "sns.scatterplot(x=[individual[0] for individual in population2], y=[individual[1] for individual in population2], ax=axs2[0])\n",
    "sns.barplot(x=[str(i) for i in range(1, len(population2) + 1)], y=fitness.calculate_fitness(population2), ax=axs2[1])\n",
    "fig2.suptitle('Analysis of population2')\n",
    "axs2[0].set_title('Population2 graphed')\n",
    "axs2[1].set_title('Population2 fitness')\n",
    "axs2[0].set_xlabel('individual[0]')\n",
    "axs2[0].set_ylabel('individual[1]')\n",
    "axs2[1].set_xlabel('Individual rank')\n",
    "axs2[1].set_ylabel('Individual fitness value')\n",
    "\n",
    "#Counting every individual appearance in mating pool\n",
    "appearance1 = np.empty(number_of_individuals)\n",
    "appearance2 = np.empty(number_of_individuals)\n",
    "\n",
    "for i in range(number_of_individuals):\n",
    "    individual1 = population1[i]\n",
    "    individual2 = population2[i]\n",
    "\n",
    "    appearance1[i] = sum([x[0] == individual1[0] and x[1] == individual1[1] for x in mating_pool1])\n",
    "    appearance2[i] = sum([x[0] == individual2[0] and x[1] == individual2[1] for x in mating_pool2])\n",
    "\n",
    "#Plotting mating pool info\n",
    "fig3, axs3 = plt.subplots(nrows=2, height_ratios=[1,1], figsize=(20, 11))\n",
    "sns.barplot(x=[str(i) for i in range(1, len(population1) + 1)], y=appearance1, ax=axs3[0])\n",
    "sns.barplot(x=[str(i) for i in range(1, len(population2) + 1)], y=appearance2, ax=axs3[1])\n",
    "fig3.suptitle('Analysis of mating pools')\n",
    "axs3[0].set_title('Population1 mating pool')\n",
    "axs3[1].set_title('Population2 mating pool')\n",
    "axs3[0].set_xlabel('Ranks of population1')\n",
    "axs3[0].set_ylabel('Number of times individual was selected')\n",
    "axs3[1].set_xlabel('Ranks of population2')\n",
    "axs3[1].set_ylabel('Number of times individual was selected')\n",
    "fig3.tight_layout(pad=2.5)"
   ]
  },
  {
   "cell_type": "markdown",
   "id": "64675556-ecc1-4718-84e7-56ac9b7cbfc3",
   "metadata": {
    "editable": true,
    "slideshow": {
     "slide_type": ""
    },
    "tags": []
   },
   "source": [
    "In this example we see that no matter how our populations look, if we have same max_rank_multiplier parameter mating pools will look really similar. Of course the more individuals we select, the bigger mating pool is, the more similar mating pools will look."
   ]
  },
  {
   "cell_type": "markdown",
   "id": "916737ec-1f10-495e-8a40-719661ce502e",
   "metadata": {
    "editable": true,
    "slideshow": {
     "slide_type": ""
    },
    "tags": []
   },
   "source": [
    "---\n",
    "### <a id=\"tournament_selection\">Tournament selection</a>\n",
    "Tournament selection is a selection in which a small subset of individuals is chosen at random, and placed into a tournament. Only the best individual from tournament is chosen to be moved into the mating pool. This process is repeated until the mating pool is filled."
   ]
  },
  {
   "cell_type": "markdown",
   "id": "fbb7e847-03a0-468e-bf27-0df632d72601",
   "metadata": {
    "editable": true,
    "slideshow": {
     "slide_type": ""
    },
    "tags": []
   },
   "source": [
    "Parameters:<br>\n",
    "<b>tournament_size</b> is integer that represents the number of individuals in the tournament."
   ]
  },
  {
   "cell_type": "code",
   "execution_count": null,
   "id": "0a956977-1579-42c7-9f85-73a5d8f2b5c3",
   "metadata": {
    "editable": true,
    "slideshow": {
     "slide_type": ""
    },
    "tags": []
   },
   "outputs": [],
   "source": [
    "class Selection(Selection):\n",
    "    def _tournament_selection(self, population: np.array, fitness: Fitness, number_of_individuals_to_select: int):\n",
    "        tournament_size = self.params['tournament_size']\n",
    "        mating_pool = np.empty(shape=(number_of_individuals_to_select, population.shape[1]))\n",
    "        population_fitness = fitness.calculate_fitness(population)\n",
    "        population_size = len(population)\n",
    "        for i in range(number_of_individuals_to_select):\n",
    "            tournament_indexes = [random.randrange(population_size) for _ in range(tournament_size)]\n",
    "            tournament_fitnesses = population_fitness[tournament_indexes]\n",
    "            winner_index = max(enumerate(tournament_fitnesses), key=lambda x: x[1])[0]\n",
    "            mating_pool[i] = population[tournament_indexes[winner_index]]\n",
    "        return mating_pool"
   ]
  },
  {
   "cell_type": "markdown",
   "id": "6cfabe17-a536-4437-a3f9-e6eae587cc4c",
   "metadata": {
    "editable": true,
    "jp-MarkdownHeadingCollapsed": true,
    "slideshow": {
     "slide_type": ""
    },
    "tags": []
   },
   "source": [
    "#### Demo"
   ]
  },
  {
   "cell_type": "markdown",
   "id": "13036811-8eb2-48eb-b217-0a66ff592a61",
   "metadata": {
    "editable": true,
    "slideshow": {
     "slide_type": ""
    },
    "tags": []
   },
   "source": [
    "Same as the ranking selection, tournament selection also does not take into account how much better certain individuals are. As long as the individual wins the tournament it will be placed into the mating pool."
   ]
  },
  {
   "cell_type": "markdown",
   "id": "594477d7-3b43-42e0-a711-71163f88c7aa",
   "metadata": {
    "editable": true,
    "slideshow": {
     "slide_type": ""
    },
    "tags": []
   },
   "source": [
    "In the following example we have same populations and same fitness as in the ranking selection.<br>\n",
    "First population have 3 really good individuals and the second population have 3 really bad individuals. Fitness is calculated by adding individuals coordinates.<br>\n",
    "$\\text{fitness1}(x) = x[0] + x[1]$<br>"
   ]
  },
  {
   "cell_type": "code",
   "execution_count": null,
   "id": "600cd8c3-2bba-4010-ab6c-2869a923e062",
   "metadata": {
    "editable": true,
    "jupyter": {
     "source_hidden": true
    },
    "slideshow": {
     "slide_type": ""
    },
    "tags": []
   },
   "outputs": [],
   "source": [
    "selection = Selection('demo')\n",
    "selection._tournament_size = 3\n",
    "\n",
    "number_of_individuals = 20\n",
    "number_of_individuals_to_select = 40\n",
    "\n",
    "fitness_function = lambda x: x[0] + x[1] #Simple fitness function, the bigger the sum of coordinates are, the better the individual is\n",
    "\n",
    "fitness = Fitness(fitness_function, 2)\n",
    "\n",
    "#Creating empty population\n",
    "population1 = np.empty(shape=(number_of_individuals, 2))\n",
    "population2 = np.empty(shape=(number_of_individuals, 2))\n",
    "\n",
    "#Assigning random values [0, 1) to individuals\n",
    "for individual in population1:\n",
    "    individual[0] = random.random()\n",
    "    individual[1] = random.random()\n",
    "for individual in population2:\n",
    "    individual[0] = random.random()\n",
    "    individual[1] = random.random()\n",
    "\n",
    "#Making 3 individuals of population 1 be better than others\n",
    "for individual in population1[1:4]:\n",
    "    individual[0] *= 12\n",
    "    individual[1] *= 12\n",
    "\n",
    "#Making 3 individuals of population 2 be worst than others\n",
    "for individual in population2[1:4]:\n",
    "    individual[0] /= 12\n",
    "    individual[1] /= 12\n",
    "\n",
    "population1 = fitness.rank(population1)\n",
    "population2 = fitness.rank(population2)\n",
    "\n",
    "mating_pool1 = selection._tournament_selection(population1, fitness, number_of_individuals_to_select)\n",
    "mating_pool2 = selection._tournament_selection(population2, fitness, number_of_individuals_to_select)\n",
    "\n",
    "#Plotting population 1 info\n",
    "fig1, axs1 = plt.subplots(ncols=2, width_ratios=[1, 2], figsize=(20, 5))\n",
    "sns.set_theme(style='darkgrid', context='notebook')\n",
    "sns.scatterplot(x=[individual[0] for individual in population1], y=[individual[1] for individual in population1], ax=axs1[0])\n",
    "sns.barplot(x=[str(i) for i in range(1, len(population1) + 1)], y=fitness.calculate_fitness(population1), ax=axs1[1])\n",
    "fig1.suptitle('Analysis of population1')\n",
    "axs1[0].set_title('Population1 graphed')\n",
    "axs1[1].set_title('Population1 fitness')\n",
    "axs1[0].set_xlabel('individual[0]')\n",
    "axs1[0].set_ylabel('individual[1]')\n",
    "axs1[1].set_xlabel('Individual rank')\n",
    "axs1[1].set_ylabel('Individual fitness value')\n",
    "\n",
    "#Plotting population 2 info\n",
    "fig2, axs2 = plt.subplots(ncols=2, width_ratios=[1, 2], figsize=(20, 5))\n",
    "sns.set_theme(style='darkgrid', context='notebook')\n",
    "sns.scatterplot(x=[individual[0] for individual in population2], y=[individual[1] for individual in population2], ax=axs2[0])\n",
    "sns.barplot(x=[str(i) for i in range(1, len(population2) + 1)], y=fitness.calculate_fitness(population2), ax=axs2[1])\n",
    "fig2.suptitle('Analysis of population2')\n",
    "axs2[0].set_title('Population2 graphed')\n",
    "axs2[1].set_title('Population2 fitness')\n",
    "axs2[0].set_xlabel('individual[0]')\n",
    "axs2[0].set_ylabel('individual[1]')\n",
    "axs2[1].set_xlabel('Individual rank')\n",
    "axs2[1].set_ylabel('Individual fitness value')\n",
    "\n",
    "#Counting every individual appearance in mating pool\n",
    "appearance1 = np.empty(number_of_individuals)\n",
    "appearance2 = np.empty(number_of_individuals)\n",
    "\n",
    "for i in range(number_of_individuals):\n",
    "    individual1 = population1[i]\n",
    "    individual2 = population2[i]\n",
    "\n",
    "    appearance1[i] = sum([x[0] == individual1[0] and x[1] == individual1[1] for x in mating_pool1])\n",
    "    appearance2[i] = sum([x[0] == individual2[0] and x[1] == individual2[1] for x in mating_pool2])\n",
    "\n",
    "#Plotting mating pool info\n",
    "fig3, axs3 = plt.subplots(nrows=2, height_ratios=[1,1], figsize=(20, 11))\n",
    "sns.barplot(x=[str(i) for i in range(1, len(population1) + 1)], y=appearance1, ax=axs3[0])\n",
    "sns.barplot(x=[str(i) for i in range(1, len(population2) + 1)], y=appearance2, ax=axs3[1])\n",
    "fig3.suptitle('Analysis of mating pools')\n",
    "axs3[0].set_title('Population1 mating pool')\n",
    "axs3[1].set_title('Population2 mating pool')\n",
    "axs3[0].set_xlabel('Ranks of population1')\n",
    "axs3[0].set_ylabel('Number of times individual was selected')\n",
    "axs3[1].set_xlabel('Ranks of population2')\n",
    "axs3[1].set_ylabel('Number of times individual was selected')\n",
    "fig3.tight_layout(pad=2.5)"
   ]
  },
  {
   "cell_type": "markdown",
   "id": "b4b291f9-43c1-47e3-8e56-537307253ff8",
   "metadata": {
    "editable": true,
    "slideshow": {
     "slide_type": ""
    },
    "tags": []
   },
   "source": [
    "The conclusion is the same as with the ranking population: no matter the fitness values, the mating pool will look similar."
   ]
  },
  {
   "cell_type": "markdown",
   "id": "309e0223-52e2-4e10-9086-2f435abe9bb4",
   "metadata": {
    "editable": true,
    "slideshow": {
     "slide_type": ""
    },
    "tags": []
   },
   "source": [
    "---\n",
    "### <a id=\"random_selection\">Random selection</a>\n",
    "Random selection is only non biased selection that chooses parents on random without and knowledge about their performance."
   ]
  },
  {
   "cell_type": "code",
   "execution_count": null,
   "id": "326f96bc-97f3-4ccc-ac6b-49d07d5cd13c",
   "metadata": {
    "editable": true,
    "slideshow": {
     "slide_type": ""
    },
    "tags": []
   },
   "outputs": [],
   "source": [
    "class Selection(Selection):\n",
    "    def _random_selection(self, population: np.array, fitness: Fitness, number_of_individuals_to_select: int):\n",
    "        return np.array(random.choices(population, k=number_of_individuals_to_select))"
   ]
  },
  {
   "cell_type": "markdown",
   "id": "2fe926ed-738c-4484-bad6-a9e415b5fd7e",
   "metadata": {
    "editable": true,
    "jp-MarkdownHeadingCollapsed": true,
    "slideshow": {
     "slide_type": ""
    },
    "tags": []
   },
   "source": [
    "#### Demo"
   ]
  },
  {
   "cell_type": "markdown",
   "id": "692d6570-a510-46d4-97c8-f70c2d0f73a0",
   "metadata": {
    "editable": true,
    "slideshow": {
     "slide_type": ""
    },
    "tags": []
   },
   "source": [
    "Random selection is in this project just so we can compare different selections to the basic case. Neither fitness nor individual rank are taken into account in random selection."
   ]
  },
  {
   "cell_type": "markdown",
   "id": "a9977161-2339-4b8a-bc27-47bef504e8c9",
   "metadata": {
    "editable": true,
    "slideshow": {
     "slide_type": ""
    },
    "tags": []
   },
   "source": [
    "In the next example we have 2 populations. One is totally random, second is with 3 really good individuals. Fitness function is the sum of the individuals coordinates."
   ]
  },
  {
   "cell_type": "code",
   "execution_count": null,
   "id": "2524e507-e86a-4ce6-90cb-3c6baedc0343",
   "metadata": {
    "editable": true,
    "jupyter": {
     "source_hidden": true
    },
    "slideshow": {
     "slide_type": ""
    },
    "tags": [
     "hide-input"
    ]
   },
   "outputs": [],
   "source": [
    "selection = Selection('demo')\n",
    "\n",
    "number_of_individuals = 20\n",
    "number_of_individuals_to_select = 40\n",
    "\n",
    "fitness_function = lambda x: x[0] + x[1] #Simple fitness function, the bigger the sum of coordinates are, the better the individual is\n",
    "\n",
    "fitness = Fitness(fitness_function, 2)\n",
    "\n",
    "#Creating empty population\n",
    "population1 = np.empty(shape=(number_of_individuals, 2))\n",
    "population2 = np.empty(shape=(number_of_individuals, 2))\n",
    "\n",
    "#Assigning random values [0, 1) to individuals\n",
    "for individual in population1:\n",
    "    individual[0] = random.random()\n",
    "    individual[1] = random.random()\n",
    "for individual in population2:\n",
    "    individual[0] = random.random()\n",
    "    individual[1] = random.random()\n",
    "\n",
    "#Making first 3 individuals of population 2 be better than others\n",
    "for individual in population2[-1:-4:-1]:\n",
    "    individual[0] *= 12\n",
    "    individual[1] *= 12\n",
    "\n",
    "population1 = fitness.rank(population1)\n",
    "population2 = fitness.rank(population2)\n",
    "\n",
    "mating_pool1 = selection._random_selection(population1, fitness, number_of_individuals_to_select)\n",
    "mating_pool2 = selection._random_selection(population2, fitness, number_of_individuals_to_select)\n",
    "\n",
    "#Plotting population 1 info\n",
    "fig1, axs1 = plt.subplots(ncols=2, width_ratios=[1, 2], figsize=(20, 5))\n",
    "sns.set_theme(style='darkgrid', context='notebook')\n",
    "sns.scatterplot(x=[individual[0] for individual in population1], y=[individual[1] for individual in population1], ax=axs1[0])\n",
    "sns.barplot(x=[str(i) for i in range(1, len(population1) + 1)], y=fitness.calculate_fitness(population1), ax=axs1[1])\n",
    "fig1.suptitle('Analysis of population1')\n",
    "axs1[0].set_title('Population1 graphed')\n",
    "axs1[1].set_title('Population1 fitness')\n",
    "axs1[0].set_xlabel('individual[0]')\n",
    "axs1[0].set_ylabel('individual[1]')\n",
    "axs1[1].set_xlabel('Individual rank')\n",
    "axs1[1].set_ylabel('Individual fitness value')\n",
    "\n",
    "#Plotting population 2 info\n",
    "fig2, axs2 = plt.subplots(ncols=2, width_ratios=[1, 2], figsize=(20, 5))\n",
    "sns.set_theme(style='darkgrid', context='notebook')\n",
    "sns.scatterplot(x=[individual[0] for individual in population2], y=[individual[1] for individual in population2], ax=axs2[0])\n",
    "sns.barplot(x=[str(i) for i in range(1, len(population2) + 1)], y=fitness.calculate_fitness(population2), ax=axs2[1])\n",
    "fig2.suptitle('Analysis of population2')\n",
    "axs2[0].set_title('Population2 graphed')\n",
    "axs2[1].set_title('Population2 fitness')\n",
    "axs2[0].set_xlabel('individual[0]')\n",
    "axs2[0].set_ylabel('individual[1]')\n",
    "axs2[1].set_xlabel('Individual rank')\n",
    "axs2[1].set_ylabel('Individual fitness value')\n",
    "\n",
    "#Counting every individual appearance in mating pool\n",
    "appearance1 = np.empty(number_of_individuals)\n",
    "appearance2 = np.empty(number_of_individuals)\n",
    "\n",
    "for i in range(number_of_individuals):\n",
    "    individual1 = population1[i]\n",
    "    individual2 = population2[i]\n",
    "\n",
    "    appearance1[i] = sum([x[0] == individual1[0] and x[1] == individual1[1] for x in mating_pool1])\n",
    "    appearance2[i] = sum([x[0] == individual2[0] and x[1] == individual2[1] for x in mating_pool2])\n",
    "\n",
    "#Plotting mating pool info\n",
    "fig3, axs3 = plt.subplots(nrows=2, height_ratios=[1,1], figsize=(20, 11))\n",
    "sns.barplot(x=[str(i) for i in range(1, len(population1) + 1)], y=appearance1, ax=axs3[0])\n",
    "sns.barplot(x=[str(i) for i in range(1, len(population2) + 1)], y=appearance2, ax=axs3[1])\n",
    "fig3.suptitle('Analysis of mating pools')\n",
    "axs3[0].set_title('Population1 mating pool')\n",
    "axs3[1].set_title('Population2 mating pool')\n",
    "axs3[0].set_xlabel('Ranks of population1')\n",
    "axs3[0].set_ylabel('Number of times individual was selected')\n",
    "axs3[1].set_xlabel('Ranks of population2')\n",
    "axs3[1].set_ylabel('Number of times individual was selected')\n",
    "fig3.tight_layout(pad=2.5)"
   ]
  },
  {
   "cell_type": "markdown",
   "id": "e56c199a-ab51-4264-a097-b6a68d55f91d",
   "metadata": {
    "editable": true,
    "slideshow": {
     "slide_type": ""
    },
    "tags": []
   },
   "source": [
    "## Selection class"
   ]
  },
  {
   "cell_type": "code",
   "execution_count": null,
   "id": "d14185ab-2315-431d-ba72-b1c93f8a5fec",
   "metadata": {
    "editable": true,
    "slideshow": {
     "slide_type": ""
    },
    "tags": [
     "hide-input"
    ]
   },
   "outputs": [],
   "source": [
    "class Selection(Selection):\n",
    "    VALID_SELECTION_STRATS = ['roulette',\n",
    "                              'scroulette',\n",
    "                              'ranking',\n",
    "                              'tournament',\n",
    "                              'random']\n",
    "    DEFAULT_MAX_RANK_MULTIPLIER = 20\n",
    "    DEFAULT_TOURNAMENT_SIZE = 3\n",
    "    def get_possible_strats(self):\n",
    "        return str(self.VALID_SELECTION_STRATS)\n",
    "        \n",
    "    def _check_strat(self, selection_strat: str):\n",
    "        if not selection_strat in self.VALID_SELECTION_STRATS:\n",
    "            raise ValueError('Seleciton strategy name is not recognised, you can use selection_strat=' + self.get_possible_strats())\n",
    "\n",
    "    def _set_selection(self, selection_strat: str, **kwargs):\n",
    "        if(selection_strat == 'roulette'):\n",
    "            self._selection = self._roulette_wheel_selection\n",
    "            \n",
    "        elif(selection_strat == 'scroulette'):\n",
    "            self._selection = self._scaled_roulette_wheel_selection\n",
    "        \n",
    "        elif(selection_strat == 'ranking'):\n",
    "            self._selection = self._ranking_selection\n",
    "            check_parameter(self, 'max_rank_multiplier', 'ranking', 'selection', self.DEFAULT_MAX_RANK_MULTIPLIER, (int, float), kwargs)\n",
    "            self.params['max_rank_multiplier'] = float(self.params['max_rank_multiplier'])\n",
    "            \n",
    "        elif(selection_strat == 'tournament'):\n",
    "            self._selection = self._tournament_selection\n",
    "            check_parameter(self, 'tournament_size', 'tournament', 'selection', self.DEFAULT_TOURNAMENT_SIZE, (int), kwargs)\n",
    "        \n",
    "        elif(selection_strat == 'random'):\n",
    "            self._selection = self._random_selection\n",
    "        \n",
    "        else:\n",
    "            raise AssertionError('Selection strategy name exist in the valid selection strategies but was not found')\n",
    "    \n",
    "    def __init__(self, selection_strat: str, *, tournament_size=None, max_rank_multiplier=None):\n",
    "        self._selection_strat = selection_strat\n",
    "        self._check_strat(selection_strat)\n",
    "        self._set_selection(selection_strat, tournament_size=tournament_size, max_rank_multiplier=max_rank_multiplier)\n",
    "\n",
    "    def select_mating_pool(self, population: np.array, fitness: Fitness, number_of_individuals_to_select: int) -> np.array:\n",
    "        #Check if fitness is callable\n",
    "        return self._selection(population, fitness, number_of_individuals_to_select)\n",
    "\n",
    "    def get_info(self):\n",
    "        return f'Selection strategy - {self._selection_strat} with next parameters:'+ ('\\n\\t'.join(\"{0} = {1}\".format(key, value)  for key,value in self.params.items()) if self.params.items() else f'\\n\\tMethod have no parameters') "
   ]
  },
  {
   "cell_type": "markdown",
   "id": "33ab8eb5-c2a0-454e-8571-744da82917cc",
   "metadata": {
    "editable": true,
    "slideshow": {
     "slide_type": ""
    },
    "tags": []
   },
   "source": [
    "## Crossover"
   ]
  },
  {
   "cell_type": "markdown",
   "id": "5540b825-4029-45da-a709-bfc66de1d6a4",
   "metadata": {
    "editable": true,
    "slideshow": {
     "slide_type": ""
    },
    "tags": []
   },
   "source": [
    "Crossover also called recombination is process of combining individuals to produce new individuals. This process requires mating pool, and produces offspring population."
   ]
  },
  {
   "cell_type": "code",
   "execution_count": null,
   "id": "5741b1d9-7f58-4266-9bea-3c41ca7c9018",
   "metadata": {
    "editable": true,
    "slideshow": {
     "slide_type": ""
    },
    "tags": []
   },
   "outputs": [],
   "source": [
    "class Crossover():\n",
    "    #This is not constructor intended to be used if you are not debugging or expanding library\n",
    "    def __init__(self, mode: str):\n",
    "        valid = ['debug', 'demo']\n",
    "        if not mode in valid:\n",
    "            raise ValueError('Unknown mode')"
   ]
  },
  {
   "cell_type": "markdown",
   "id": "0f4c8fdd-2753-4051-905c-ca24818827dc",
   "metadata": {
    "editable": true,
    "slideshow": {
     "slide_type": ""
    },
    "tags": []
   },
   "source": [
    "Types of crossover implemented:\n",
    "- [Symmetrical crossover](#symmetrical_crossover)\n",
    "- [Linear crossover](#linear_crossover)\n",
    "- [Bland crossover](#blx)\n",
    "- [SBX](#sbx) (<u>S</u>imulated <u>B</u>inary Crossover)"
   ]
  },
  {
   "cell_type": "markdown",
   "id": "b8056be2-8a51-49a9-9d41-cfc3b5b6d5fc",
   "metadata": {
    "editable": true,
    "slideshow": {
     "slide_type": ""
    },
    "tags": []
   },
   "source": [
    "---\n",
    "### <a id=\"symmetrical_crossover\">Symmetrical crossover</a>\n",
    "Given the parents $x_1$ and $x_2$ the children $y_1$ and $y_2$ are:<br>\n",
    "$y_1 = \\Omega * x_1 + (1-\\Omega) * x_2$ and $y_2 = \\Omega * x_2 + (1-\\Omega) * x_1$ where $\\Omega$ is a random float between 0 and 1.<br>\n",
    "If $x_1$ and $x_2$ are multidimensional then this process is repeated for every dimension.<br>\n",
    "Symmetrical crossover from $\\lambda$ individuals produces $\\lambda$ offspring."
   ]
  },
  {
   "cell_type": "code",
   "execution_count": null,
   "id": "8775e484-1b73-4880-ac7a-29b058443070",
   "metadata": {
    "editable": true,
    "slideshow": {
     "slide_type": ""
    },
    "tags": []
   },
   "outputs": [],
   "source": [
    "class Crossover(Crossover):\n",
    "    def _symmetrical_crossover(self, mating_pool: np.array, fitness: Fitness):\n",
    "        sistem_size = len(mating_pool[0])\n",
    "        offspring = np.empty(shape=mating_pool.shape)\n",
    "        \n",
    "        for i in range(0, len(mating_pool), 2):\n",
    "            parent1 = mating_pool[i]\n",
    "            parent2 = mating_pool[i+1]\n",
    "            child1 = np.empty(sistem_size)\n",
    "            child2 = np.empty(sistem_size)\n",
    "            omega = random.random()\n",
    "            for j in range(sistem_size):\n",
    "                child1[j] = parent1[j] * omega + parent2[j] * (1 - omega)\n",
    "                child2[j] = parent1[j] * (1 - omega) + parent2[j] * omega\n",
    "            offspring[i] = child1\n",
    "            offspring[i+1] = child2\n",
    "        return offspring"
   ]
  },
  {
   "cell_type": "markdown",
   "id": "239205e7-f51d-4df2-bec6-b76abdb71f9a",
   "metadata": {
    "editable": true,
    "jp-MarkdownHeadingCollapsed": true,
    "slideshow": {
     "slide_type": ""
    },
    "tags": []
   },
   "source": [
    "#### Demo"
   ]
  },
  {
   "cell_type": "markdown",
   "id": "e77fa7b9-31e7-4dd9-b4d9-8d0ff6de4add",
   "metadata": {
    "editable": true,
    "slideshow": {
     "slide_type": ""
    },
    "tags": []
   },
   "source": [
    "The bad thing with this approach is that the two new individuals will always be between the parents, there is no way for them to explore area outside area limited by their parents."
   ]
  },
  {
   "cell_type": "code",
   "execution_count": null,
   "id": "6c87c517-7841-4fc4-a0f7-46f7e430f4ac",
   "metadata": {
    "editable": true,
    "jupyter": {
     "source_hidden": true
    },
    "slideshow": {
     "slide_type": ""
    },
    "tags": [
     "hide-input"
    ]
   },
   "outputs": [],
   "source": [
    "crossover = Crossover('demo')\n",
    "\n",
    "sistem_size = 2\n",
    "\n",
    "parent1 = np.empty(sistem_size)\n",
    "parent2 = np.empty(sistem_size)\n",
    "\n",
    "for i in range(sistem_size):\n",
    "    parent1[i] = random.random()\n",
    "    parent2[i] = random.random()\n",
    "\n",
    "number_of_tries = 10 #10 times we will do crossover between this parents, that means we will produce 20 children\n",
    "\n",
    "children = np.array([[-10, -10]])#[-10, -10] is placeholder to give array a shape of (1, 2)\n",
    "for _ in range(number_of_tries):\n",
    "    offspring = crossover._symmetrical_crossover(mating_pool=np.array([parent1, parent2]), fitness=None)#This approach does not use fitness so it is ok to pass None\n",
    "    children = np.append(children, offspring, axis=0)\n",
    "\n",
    "#center of the possible children line\n",
    "center = (parent1 + parent2) / 2\n",
    "\n",
    "#Plotting\n",
    "fig1, axs1 = plt.subplots(ncols=2, width_ratios=[1, 1], figsize=(15, 5.5))\n",
    "sns.set_theme(style='darkgrid', context='notebook')\n",
    "\n",
    "axs1[0].plot([individual[0] for individual in [parent1, parent2]], [individual[1] for individual in [parent1, parent2]], label='Possible children', color=(249/255.0, 86/255.0, 86/255.0, 0.8))\n",
    "sns.scatterplot(x=[individual[0] for individual in [parent1, parent2]], y=[individual[1] for individual in [parent1, parent2]], ax=axs1[0], label='Parents')\n",
    "\n",
    "axs1[1].plot([individual[0] for individual in [parent1, parent2]], [individual[1] for individual in [parent1, parent2]], label='Possible children', color=(249/255.0, 86/255.0, 86/255.0, 0.8))\n",
    "sns.scatterplot(x=[individual[0] for individual in children], y=[individual[1] for individual in children], ax=axs1[1], label='Children', color=(0/255, 190/255, 28/255, 0.8))\n",
    "sns.scatterplot(x=[center[0]], y=[center[1]], label='Center of symmetry', color=(72/255, 37/255, 0/255, 0.8))\n",
    "\n",
    "\n",
    "axs1[0].legend(loc=2)\n",
    "axs1[1].legend(loc=2)\n",
    "\n",
    "axs1[0].set_xlim([-0.2, 1.2])\n",
    "axs1[0].set_ylim([-0.2, 1.2])\n",
    "\n",
    "axs1[1].set_xlim([-0.2, 1.2])\n",
    "axs1[1].set_ylim([-0.2, 1.2])\n",
    "\n",
    "fig1.suptitle('Symmetrical crossover demo')\n",
    "axs1[0].set_title('Parents graphed')\n",
    "axs1[1].set_title('Children graphed')\n",
    "axs1[0].set_xlabel('First coordinate')\n",
    "axs1[0].set_ylabel('Second coordinate')\n",
    "axs1[1].set_xlabel('First coordinate')\n",
    "axs1[1].set_ylabel('Second coordinate')\n",
    "pass"
   ]
  },
  {
   "cell_type": "markdown",
   "id": "5f0b816f-ba04-41a2-bca6-a000d8ca7c80",
   "metadata": {
    "editable": true,
    "slideshow": {
     "slide_type": ""
    },
    "tags": []
   },
   "source": [
    "From the following example we see that when we use symmetrical crossover children will lay on the line that connects parents. Also if we look at the second graph, we have plotted center of the possible children line, and we see that the sides of that line are symmetrical."
   ]
  },
  {
   "cell_type": "markdown",
   "id": "61ab7c0f-5882-476a-9c5b-1d716eb8b00d",
   "metadata": {
    "editable": true,
    "slideshow": {
     "slide_type": ""
    },
    "tags": []
   },
   "source": [
    "---\n",
    "### <a id=\"linear_crossover\">Linear crossover</a>\n",
    "Given the parents $x_1$ and $x_2$ the offspring $y_1$ and $y_2$ are:<br>\n",
    "$k_1 = 0,5 * x_1 + 0,5 * x_2$<br>\n",
    "$k_2 = -0,5 * x_1 + 1,5 * x_2$<br>\n",
    "$k_3 = 1,5 * x_1 - 0,5 * x_2$<br>\n",
    "$y_1$ and $y_2$ are the two best individuals from $\\{k_1, k_2, k_3\\}$ based on their fitness values.<br>\n",
    "If the individual is multidimensional then you can look at the $x_1$ and $x_2$ as vectors and use respective vector operators.<br>\n",
    "Linear crossover from $\\lambda$ individuals produces $\\lambda$ offspring."
   ]
  },
  {
   "cell_type": "code",
   "execution_count": null,
   "id": "1ac1867f-ed7c-4e9e-826c-530fa38b7726",
   "metadata": {
    "editable": true,
    "slideshow": {
     "slide_type": ""
    },
    "tags": []
   },
   "outputs": [],
   "source": [
    "class Crossover(Crossover):\n",
    "    def _linear_crossover(self, mating_pool: np.array, fitness: Fitness):\n",
    "        sistem_size = len(mating_pool[0])\n",
    "        offspring = np.empty(shape=mating_pool.shape)\n",
    "\n",
    "        for i in range(0, len(mating_pool), 2):\n",
    "            parent1 = mating_pool[i]\n",
    "            parent2 = mating_pool[i+1]\n",
    "            child1 = np.empty(sistem_size)\n",
    "            child2 = np.empty(sistem_size)\n",
    "            child3 = np.empty(sistem_size)\n",
    "            for j in range(sistem_size):\n",
    "                child1[j] =  0.5 * parent1[j] + 0.5 * parent2[j]\n",
    "                child2[j] = -0.5 * parent1[j] + 1.5 * parent2[j]\n",
    "                child3[j] =  1.5 * parent1[j] - 0.5 * parent2[j]\n",
    "                \n",
    "            offspring[i:i+2] = sorted([child1, child2, child3], key=fitness.function, reverse=True)[0:2]\n",
    "\n",
    "        return offspring"
   ]
  },
  {
   "cell_type": "markdown",
   "id": "484ffff0-1808-4db6-b3cd-b38a5e59d5ec",
   "metadata": {
    "editable": true,
    "jp-MarkdownHeadingCollapsed": true,
    "slideshow": {
     "slide_type": ""
    },
    "tags": []
   },
   "source": [
    "#### Demo"
   ]
  },
  {
   "cell_type": "markdown",
   "id": "0466e150-a509-4d3e-bd1e-09874d5d6f14",
   "metadata": {
    "editable": true,
    "slideshow": {
     "slide_type": ""
    },
    "tags": []
   },
   "source": [
    "Linear crossover can not produce a lot of individuals from the same parents."
   ]
  },
  {
   "cell_type": "markdown",
   "id": "41277f8b-855d-46b9-adf2-2acde93588d0",
   "metadata": {
    "editable": true,
    "slideshow": {
     "slide_type": ""
    },
    "tags": []
   },
   "source": [
    "In the following example we will look at the two random parents, and using linear crossover we will create 2 children."
   ]
  },
  {
   "cell_type": "code",
   "execution_count": null,
   "id": "cc3fc25f-53c2-402a-aed8-87d60566bbc3",
   "metadata": {
    "editable": true,
    "slideshow": {
     "slide_type": ""
    },
    "tags": [
     "hide-input"
    ]
   },
   "outputs": [],
   "source": [
    "crossover = Crossover('demo')\n",
    "\n",
    "system_size = 2\n",
    "\n",
    "parent1 = np.empty(system_size)\n",
    "parent2 = np.empty(system_size)\n",
    "\n",
    "for i in range(sistem_size):\n",
    "    parent1[i] = random.random()\n",
    "    parent2[i] = random.random()\n",
    "\n",
    "#This crossover need fitness\n",
    "fitness_function = lambda x: x[0] + x[1]#The bigger the sum of individuals coordinates is, the better the individual is\n",
    "fitness = Fitness(fitness_function, system_size)\n",
    "\n",
    "offspring = crossover._linear_crossover(mating_pool=np.array([parent1, parent2]), fitness=fitness)\n",
    "\n",
    "#Calculating where the possible children can bee\n",
    "possible_children = []\n",
    "possible_children.append(0.5 * parent1 + 0.5 * parent2)\n",
    "possible_children.append(-0.5 * parent1 + 1.5 * parent2)\n",
    "possible_children.append(1.5 * parent1 - 0.5 * parent2)\n",
    "\n",
    "\n",
    "#Plotting\n",
    "fig1, axs1 = plt.subplots(ncols=2, width_ratios=[1, 1], figsize=(15, 5.5))\n",
    "sns.set_theme(style='darkgrid', context='notebook')\n",
    "\n",
    "sns.scatterplot(x=[individual[0] for individual in possible_children], y=[individual[1] for individual in possible_children], ax=axs1[0], label='Possible children', color=(249/255.0, 86/255.0, 86/255.0, 0.8))\n",
    "sns.scatterplot(x=[individual[0] for individual in [parent1, parent2]], y=[individual[1] for individual in [parent1, parent2]], ax=axs1[0], label='Parents')\n",
    "\n",
    "sns.scatterplot(x=[individual[0] for individual in possible_children], y=[individual[1] for individual in possible_children], ax=axs1[1], label='Possible children', color=(249/255.0, 86/255.0, 86/255.0, 0.8))\n",
    "sns.scatterplot(x=[individual[0] for individual in offspring], y=[individual[1] for individual in offspring], ax=axs1[1], label='Children', color=(0/255, 190/255, 28/255, 0.8))\n",
    "\n",
    "axs1[0].legend(loc=2)\n",
    "axs1[1].legend(loc=2)\n",
    "\n",
    "axs1[0].set_xlim([-2.2, 3.2])\n",
    "axs1[0].set_ylim([-2.2, 3.2])\n",
    "\n",
    "axs1[1].set_xlim([-2.2, 3.2])\n",
    "axs1[1].set_ylim([-2.2, 3.2])\n",
    "\n",
    "fig1.suptitle('Linear crossover demo')\n",
    "axs1[0].set_title('Parents graphed')\n",
    "axs1[1].set_title('Children graphed')\n",
    "axs1[0].set_xlabel('First coordinate')\n",
    "axs1[0].set_ylabel('Second coordinate')\n",
    "axs1[1].set_xlabel('First coordinate')\n",
    "axs1[1].set_ylabel('Second coordinate')\n",
    "pass"
   ]
  },
  {
   "cell_type": "markdown",
   "id": "a7b4b14c-0cc9-41ca-90c1-5e52e4773020",
   "metadata": {
    "editable": true,
    "slideshow": {
     "slide_type": ""
    },
    "tags": []
   },
   "source": [
    "Unlike with the symmetrical crossover we can not produce a lot of children with two parents. Linear crossover have 3 possible children. The good part about this is that 2 children are not in between the parents, however linear crossover can give bad children when parents are far away from each other.<br>\n",
    "Also it is possible to look at the parent individuals as the offspring and choose 2 best individuals from the 3 children and 2 parents. In this case it is possible for parents to survive crossover."
   ]
  },
  {
   "cell_type": "markdown",
   "id": "f05e57df-3f1c-4bba-a04c-b02fd36ff1cd",
   "metadata": {
    "editable": true,
    "slideshow": {
     "slide_type": ""
    },
    "tags": []
   },
   "source": [
    "---\n",
    "### <a id=\"blx\">Bland crossover</a>\n",
    "Given the parents $x_1$ and $x_2$ the offspring $y_1$ is:<br>\n",
    "$y_1 = random([min(x_1, x_2) - \\alpha * |x_1 - x_2|, max(x_1, x_2) + \\alpha * |x_1 - x_2|])$<br>\n",
    "$\\alpha$ is parameter of the algorithm, 0.5 is usually OK<br>\n",
    "This algorithm can produce desired number of offspring from the two parents but in this implementation, due the simplicity it will return two offspring.<br>\n",
    "It the individual is multidimensional then, this process is repeated for every dimension so if $y_1 = [y_{11}\\ y_{12}\\ ...\\ y_{1n}]^T$ then:<br> $y_{1i} = \\sum \\limits _{i=1} ^{n}random([min(x_1i, x_2i) - \\alpha * |x_1i - x_2i|, max(x_1i, x_2i) + \\alpha * |x_1i - x_2i|]) $<br>\n",
    "$random([a, b])$ represents choosing one random float from the range $[a, b]$<br>\n",
    "Bland crossover from $\\lambda$ individuals produces $\\lambda$ offspring."
   ]
  },
  {
   "cell_type": "markdown",
   "id": "a313017c-472d-4d0c-b9fc-97b7583cb431",
   "metadata": {},
   "source": [
    "Parameters:<br>\n",
    "$\\alpha$ is float parameter that represents how far away from parent individuals the offspring can be. The greater the value the bigger potential area offspring can be in."
   ]
  },
  {
   "cell_type": "code",
   "execution_count": null,
   "id": "865b4dac-0741-4e94-8a02-2866000f4e2c",
   "metadata": {
    "editable": true,
    "slideshow": {
     "slide_type": ""
    },
    "tags": []
   },
   "outputs": [],
   "source": [
    "class Crossover(Crossover):\n",
    "    def _bland_crossover(self, mating_pool: np.array, fitness: Fitness):\n",
    "        sistem_size = len(mating_pool[0])\n",
    "        offspring = np.empty(shape=mating_pool.shape)\n",
    "        alpha = self.params['alpha']\n",
    "        \n",
    "        for i in range(0, len(mating_pool), 2):\n",
    "            parent1 = mating_pool[i]\n",
    "            parent2 = mating_pool[i+1]\n",
    "            child1 = np.empty(sistem_size)\n",
    "            child2 = np.empty(sistem_size)\n",
    "            for j in range(sistem_size):\n",
    "                [lower, higher] = sorted([parent1[j], parent2[j]])\n",
    "                distance = higher - lower\n",
    "                child1[j] = random.random() * distance * (1 + 2 * alpha) + lower - (alpha * distance)#Scaling random.random() from [0,1] to desired interval\n",
    "                child2[j] = random.random() * distance * (1 + 2 * alpha) + lower - (alpha * distance)\n",
    "                \n",
    "            offspring[i:i+2] = [child1, child2]\n",
    "\n",
    "        return offspring"
   ]
  },
  {
   "cell_type": "markdown",
   "id": "10157081-86ac-48d4-beab-356a3f241a64",
   "metadata": {
    "editable": true,
    "jp-MarkdownHeadingCollapsed": true,
    "slideshow": {
     "slide_type": ""
    },
    "tags": []
   },
   "source": [
    "#### Demo"
   ]
  },
  {
   "cell_type": "markdown",
   "id": "2f1997ac-57c8-4902-b11b-6155e558b74d",
   "metadata": {
    "editable": true,
    "slideshow": {
     "slide_type": ""
    },
    "tags": []
   },
   "source": [
    "Bland crossover solves the problems we mentioned when we were talking about linear and symmetrical crossover. This approach can not only generate individuals in the rectangle containing their parents, instead of in the line, but it can also explore space that is not surrounded by their parents."
   ]
  },
  {
   "cell_type": "markdown",
   "id": "31777981-e0f8-453e-abdc-2cbb998978bc",
   "metadata": {
    "editable": true,
    "slideshow": {
     "slide_type": ""
    },
    "tags": []
   },
   "source": [
    "In the following example we will take a look at the two random individuals and we will create 40 offspring."
   ]
  },
  {
   "cell_type": "code",
   "execution_count": null,
   "id": "e4a6f23f-4c72-4d8f-9cec-6cf3638e05e8",
   "metadata": {
    "editable": true,
    "jupyter": {
     "source_hidden": true
    },
    "slideshow": {
     "slide_type": ""
    },
    "tags": [
     "hide-input"
    ]
   },
   "outputs": [],
   "source": [
    "crossover = Crossover('demo')\n",
    "crossover._alpha = 0.5\n",
    "\n",
    "system_size = 2\n",
    "\n",
    "parent1 = np.empty(system_size)\n",
    "parent2 = np.empty(system_size)\n",
    "\n",
    "for i in range(sistem_size):\n",
    "    parent1[i] = random.random()\n",
    "    parent2[i] = random.random()\n",
    "\n",
    "number_of_tries = 20 #10 times we will do crossover between this parents, that means we will produce 40 children\n",
    "\n",
    "children = np.array([[-10, -10]])#[-10, -10] is placeholder to give array a shape of (1, 2)\n",
    "for _ in range(number_of_tries):\n",
    "    offspring = crossover._bland_crossover(mating_pool=np.array([parent1, parent2]), fitness=None)#This approach does not use fitness so it is ok to pass None\n",
    "    children = np.append(children, offspring, axis=0)\n",
    "\n",
    "#Creating variables to draw rectangle\n",
    "#Rectangle will represent where will be possible children\n",
    "center = (parent1 + parent2) / 2\n",
    "width = abs(parent1[0] - center[0]) * 2\n",
    "height = abs(parent1[1] - center[1]) * 2\n",
    "\n",
    "width += crossover._alpha * width * 2\n",
    "height += crossover._alpha * height * 2\n",
    "\n",
    "down_left_dot = [center[0] - width/2, center[1] - height/2]\n",
    "\n",
    "#Plotting\n",
    "fig1, axs1 = plt.subplots(ncols=2, width_ratios=[1, 1], figsize=(15, 5.5))\n",
    "sns.set_theme(style='darkgrid', context='notebook')\n",
    "axs1[0].add_patch(\n",
    "    patches.Rectangle((down_left_dot[0], down_left_dot[1]), width, height, color=(249/255.0, 86/255.0, 86/255.0, 0.8), label='Possible children'))\n",
    "sns.scatterplot(x=[individual[0] for individual in [parent1, parent2]], y=[individual[1] for individual in [parent1, parent2]], ax=axs1[0], label='Parents')\n",
    "\n",
    "axs1[1].add_patch(\n",
    "    patches.Rectangle((down_left_dot[0], down_left_dot[1]), width, height, color=(249/255.0, 86/255.0, 86/255.0, 0.8), label='Possible children'))\n",
    "sns.scatterplot(x=[individual[0] for individual in children], y=[individual[1] for individual in children], ax=axs1[1], label='Children')\n",
    "\n",
    "\n",
    "axs1[0].legend(loc=2)\n",
    "\n",
    "axs1[0].set_xlim([-1.2, 2.2])\n",
    "axs1[0].set_ylim([-1.2, 2.2])\n",
    "\n",
    "axs1[1].set_xlim([-1.2, 2.2])\n",
    "axs1[1].set_ylim([-1.2, 2.2])\n",
    "\n",
    "fig1.suptitle('Bland crossover demo')\n",
    "axs1[0].set_title('Parents graphed')\n",
    "axs1[1].set_title('Children graphed')\n",
    "axs1[0].set_xlabel('First coordinate')\n",
    "axs1[0].set_ylabel('Second coordinate')\n",
    "axs1[1].set_xlabel('First coordinate')\n",
    "axs1[1].set_ylabel('Second coordinate')\n",
    "pass"
   ]
  },
  {
   "cell_type": "markdown",
   "id": "6f41c0d2-70e7-4047-bd2e-a1086677d152",
   "metadata": {
    "editable": true,
    "slideshow": {
     "slide_type": ""
    },
    "tags": []
   },
   "source": [
    "---\n",
    "### <a id=\"sbx\">SBX</a>"
   ]
  },
  {
   "cell_type": "markdown",
   "id": "94127ab8-5150-4232-bf05-48c6bc46c89c",
   "metadata": {
    "editable": true,
    "slideshow": {
     "slide_type": ""
    },
    "tags": []
   },
   "source": [
    "Simulated binary crossover tries to implement all the good properties of one point crossover from binary GA."
   ]
  },
  {
   "cell_type": "markdown",
   "id": "7fab7e09-4752-4e23-a560-31619a421651",
   "metadata": {
    "editable": true,
    "slideshow": {
     "slide_type": ""
    },
    "tags": []
   },
   "source": [
    "Formula:<br>\n",
    "$u$ is random number and, $u \\in [0, 1)$<br>\n",
    "$\\Large\\beta = \\begin{cases} (2u)^\\frac{1}{\\eta_c} & ,u \\le 0.5 \\\\ (\\frac{1}{2(1-u)})^\\frac{1}{\\eta_c} & ,\\text{otherwise} \\end{cases}$<br>\n",
    "Where $\\eta_c$ is distribution index, lower value will create more diverse individuals while with the higher values individuals will be 'similar' to the parents.<br>"
   ]
  },
  {
   "cell_type": "markdown",
   "id": "a9b5ce90-0ba5-44a1-b55c-33f10307a454",
   "metadata": {
    "editable": true,
    "slideshow": {
     "slide_type": ""
    },
    "tags": []
   },
   "source": [
    "Child Creation"
   ]
  },
  {
   "cell_type": "markdown",
   "id": "3bb09535-cdd6-47d8-a993-f902bdd91260",
   "metadata": {
    "editable": true,
    "slideshow": {
     "slide_type": ""
    },
    "tags": []
   },
   "source": [
    "In the original paper authors are describing how are they dealing with 'multi-variable' problems (multidimensional individuals as we called them here), and inspiration for solution they got from uniform crossover used in binary GA. Uniform crossover tosses a coin whether to swap bits or not, for every bits in the parent. So for multidimensional individuals they toss a coin for every dimension whether to crossover them or not."
   ]
  },
  {
   "cell_type": "markdown",
   "id": "82f8acb1-29f9-4225-bd75-a03a086be5ba",
   "metadata": {},
   "source": [
    "Parameters:<br>\n",
    "<b>distribution_index</b> is float that represents distribution index of offspring"
   ]
  },
  {
   "cell_type": "code",
   "execution_count": null,
   "id": "13384c6f-94f5-4829-9811-c0428b87d8e5",
   "metadata": {
    "editable": true,
    "slideshow": {
     "slide_type": ""
    },
    "tags": []
   },
   "outputs": [],
   "source": [
    "class Crossover(Crossover):\n",
    "    def _sbx(self, mating_pool: np.array, fitness: Fitness):\n",
    "        system_size = len(mating_pool[0])\n",
    "        offspring = np.empty(shape=mating_pool.shape)\n",
    "        distribution_index = self.params['distribution_index']\n",
    "        probability_of_crossover = self._probability_of_crossover if system_size > 1 else 1\n",
    "        \n",
    "        for i in range(0, len(mating_pool), 2):\n",
    "            parent1 = mating_pool[i]\n",
    "            parent2 = mating_pool[i+1]\n",
    "            child1 = np.empty(system_size)\n",
    "            child2 = np.empty(system_size)\n",
    "            for j in range(system_size):\n",
    "                u = random.random()\n",
    "                if(u < 0.5):\n",
    "                    u = 2 * u\n",
    "                else:\n",
    "                    u = 1.0/(2.0 * (1-u))\n",
    "                beta = u**(1.0/distribution_index)\n",
    "                if(random.random() < probability_of_crossover):\n",
    "                    child1[j] = 0.5*((1+beta)*parent1[j] + (1-beta)*parent2[j])\n",
    "                    child2[j] = 0.5*((1-beta)*parent1[j] + (1+beta)*parent2[j])\n",
    "                else:\n",
    "                    child1[j] = parent1[j]\n",
    "                    child2[j] = parent2[j]\n",
    "\n",
    "            offspring[i:i+2] = [child1, child2]\n",
    "\n",
    "        return offspring"
   ]
  },
  {
   "cell_type": "markdown",
   "id": "44bccf96-f7e3-43fd-be03-5ed236d31bb0",
   "metadata": {
    "editable": true,
    "jp-MarkdownHeadingCollapsed": true,
    "slideshow": {
     "slide_type": ""
    },
    "tags": []
   },
   "source": [
    "#### Demo"
   ]
  },
  {
   "cell_type": "markdown",
   "id": "1cd607c5-ddd7-4dd7-9f63-0ddba6807840",
   "metadata": {
    "editable": true,
    "slideshow": {
     "slide_type": ""
    },
    "tags": []
   },
   "source": []
  },
  {
   "cell_type": "code",
   "execution_count": null,
   "id": "b9a37c3d-36bf-496e-9c20-172c7c79eaf6",
   "metadata": {
    "editable": true,
    "slideshow": {
     "slide_type": ""
    },
    "tags": []
   },
   "outputs": [],
   "source": [
    "crossover = Crossover('demo')\n",
    "crossover._distribution_index = 2.2\n",
    "crossover._probability_of_crossover = 1\n",
    "\n",
    "system_size = 2\n",
    "\n",
    "parent1 = np.empty(system_size)\n",
    "parent2 = np.empty(system_size)\n",
    "\n",
    "for i in range(sistem_size):\n",
    "    parent1[i] = random.random()\n",
    "    parent2[i] = random.random()\n",
    "\n",
    "number_of_tries = 20 #20 times we will do crossover between this parents, that means we will produce 40 children\n",
    "\n",
    "children = np.array([[-10, -10]])#[-10, -10] is placeholder to give array a shape of (1, 2)\n",
    "for _ in range(number_of_tries):\n",
    "    offspring = crossover._sbx(mating_pool=np.array([parent1, parent2]), fitness=None)#This approach does not use fitness so it is ok to pass None\n",
    "    children = np.append(children, offspring, axis=0)\n",
    "\n",
    "#Finding the center of the symmetry\n",
    "center = (parent1 + parent2) / 2\n",
    "\n",
    "\n",
    "\n",
    "#Plotting\n",
    "fig1, axs1 = plt.subplots(ncols=2, width_ratios=[1, 1], figsize=(15, 5.5))\n",
    "sns.set_theme(style='darkgrid', context='notebook')\n",
    "\n",
    "sns.scatterplot(x=[individual[0] for individual in [parent1, parent2]], y=[individual[1] for individual in [parent1, parent2]], ax=axs1[0], label='Parents')\n",
    "\n",
    "sns.scatterplot(x=[individual[0] for individual in children], y=[individual[1] for individual in children], ax=axs1[1], label='Children', color=(0/255, 190/255, 28/255, 0.8))\n",
    "sns.scatterplot(x=[individual[0] for individual in [parent1, parent2]], y=[individual[1] for individual in [parent1, parent2]], ax=axs1[1], label='Parents')\n",
    "sns.scatterplot(x=[center[0]], y=[center[1]], label='Symmetri center', color=(72/255, 37/255, 0/255, 0.8))\n",
    "\n",
    "axs1[0].legend(loc=2)\n",
    "\n",
    "axs1[0].set_xlim([-1.2, 2.2])\n",
    "axs1[0].set_ylim([-1.2, 2.2])\n",
    "\n",
    "axs1[1].set_xlim([-1.2, 2.2])\n",
    "axs1[1].set_ylim([-1.2, 2.2])\n",
    "\n",
    "fig1.suptitle('Sbx crossover demo')\n",
    "axs1[0].set_title('Parents graphed')\n",
    "axs1[1].set_title('Children graphed')\n",
    "axs1[0].set_xlabel('First coordinate')\n",
    "axs1[0].set_ylabel('Second coordinate')\n",
    "axs1[1].set_xlabel('First coordinate')\n",
    "axs1[1].set_ylabel('Second coordinate')"
   ]
  },
  {
   "cell_type": "markdown",
   "id": "de61b877-541f-49f2-8be5-5466278ae40e",
   "metadata": {
    "editable": true,
    "slideshow": {
     "slide_type": ""
    },
    "tags": []
   },
   "source": [
    "SBX produces also symmetrical children, but the difference is that children are not on a line and rather they are spread near their parents."
   ]
  },
  {
   "cell_type": "markdown",
   "id": "fcffe601-84d9-4f0a-b410-252666eefef7",
   "metadata": {
    "editable": true,
    "slideshow": {
     "slide_type": ""
    },
    "tags": []
   },
   "source": [
    "Maybe I should add one more example of how the parameter changes the children distribution."
   ]
  },
  {
   "attachments": {},
   "cell_type": "markdown",
   "id": "14f8f933-5095-4ae3-a783-326a94e9eab3",
   "metadata": {
    "editable": true,
    "slideshow": {
     "slide_type": ""
    },
    "tags": []
   },
   "source": [
    "## Crossover class"
   ]
  },
  {
   "cell_type": "code",
   "execution_count": null,
   "id": "f546f53e-26bb-47fe-8c8d-5d704aa85517",
   "metadata": {
    "editable": true,
    "slideshow": {
     "slide_type": ""
    },
    "tags": [
     "hide-input"
    ]
   },
   "outputs": [],
   "source": [
    "class Crossover(Crossover):\n",
    "    VALID_CROSSOVER_STRATS = ['symmetric',\n",
    "                             'linear',\n",
    "                             'bland',\n",
    "                             'sbx',]\n",
    "    DEFAULT_ALPHA = 0.5\n",
    "    DEFAULT_DISTRIBUTION_INDEX = 1.5\n",
    "\n",
    "    def get_possible_strats(self):\n",
    "        return str(self.VALID_CROSSOVER_STRATS)\n",
    "        \n",
    "    def _check_strat(self, crossover_strat: str):\n",
    "        if not crossover_strat in self.VALID_CROSSOVER_STRATS:\n",
    "            raise ValueError('Crossover strategy name is not recognised, you can use crossover_strat=' + self.get_possible_strats())\n",
    "\n",
    "    def _set_crossover(self, crossover_strat: str, **kwargs):\n",
    "        if(crossover_strat == 'symmetric'):\n",
    "            self._crossover = self._symmetrical_crossover\n",
    "            \n",
    "        elif(crossover_strat == 'linear'):\n",
    "            self._crossover = self._linear_crossover\n",
    "        \n",
    "        elif(crossover_strat == 'bland'):\n",
    "            self._crossover = self._bland_crossover\n",
    "            check_parameter(self, 'alpha', 'bland', 'crossover', self.DEFAULT_ALPHA, (int, float), kwargs)\n",
    "            self.params['alpha'] = float(self.params['alpha'])\n",
    "        \n",
    "        elif(crossover_strat == 'sbx'):\n",
    "            self._crossover = self._sbx\n",
    "            check_parameter(self, 'distribution_index', 'sbx', 'crossover', self.DEFAULT_DISTRIBUTION_INDEX, (int, float), kwargs)\n",
    "            self.params['distribution_index'] = float(self.params['distribution_index'])\n",
    "            \n",
    "        else:\n",
    "            raise AssertionError('Crossover strategy name exist in the valid crossover strategies but was not found')\n",
    "    \n",
    "    def __init__(self, crossover_strat: str, *, alpha=None, distribution_index=None):\n",
    "        self._crossover_strat = crossover_strat\n",
    "        self._check_strat(crossover_strat)\n",
    "        self._set_crossover(crossover_strat, alpha=alpha, distribution_index=distribution_index)\n",
    "\n",
    "    def generate_offspring(self, mating_pool: np.array, fitness: Fitness) -> np.array:\n",
    "        return self._crossover(mating_pool, fitness)\n",
    "\n",
    "    def get_info(self):\n",
    "        return f'Crossover strategy - {self._crossover_strat} with next parameters:'+ ('\\n\\t'.join(\"{0} = {1}\".format(key, value)  for key,value in self.params.items()) if self.params.items() else f'\\n\\tMethod have no parameters') "
   ]
  },
  {
   "cell_type": "markdown",
   "id": "ca6c0d5e-5eb4-4e4e-b7ef-74d655e6b631",
   "metadata": {
    "editable": true,
    "slideshow": {
     "slide_type": ""
    },
    "tags": []
   },
   "source": [
    "## <a id='replacement_strategy'>Replacement strategy</a>"
   ]
  },
  {
   "cell_type": "markdown",
   "id": "9068139a-b509-404a-b4b9-e99bb7961420",
   "metadata": {},
   "source": [
    "We will be creating 3 types of replacement strategies:\n",
    "- Best n (offspring and original population are combined and top n survives)\n",
    "- Elitism (best % of original population is saved and other is filled with offspring)\n",
    "- Random"
   ]
  },
  {
   "cell_type": "code",
   "execution_count": null,
   "id": "7727f42a-088e-4126-be4b-b807b9b04aa5",
   "metadata": {},
   "outputs": [],
   "source": [
    "class Replacement():\n",
    "    pass"
   ]
  },
  {
   "cell_type": "markdown",
   "id": "27a94227-350c-4ace-a116-f23d2028d377",
   "metadata": {},
   "source": [
    "### Best n"
   ]
  },
  {
   "cell_type": "code",
   "execution_count": null,
   "id": "63624c81-bad2-4b6b-bd4a-57c741549044",
   "metadata": {
    "editable": true,
    "slideshow": {
     "slide_type": ""
    },
    "tags": []
   },
   "outputs": [],
   "source": [
    "class Replacement(Replacement):\n",
    "    def _best_n(self, offspring: np.array, offspring_fitness: np.array, population: np.array, population_fitness: np.array) -> np.array:\n",
    "        everyone = np.concatenate((offspring, population))\n",
    "        everyone_fitness = np.concatenate((offspring_fitness, population_fitness))\n",
    "        sorted_all = np.flip(everyone[np.argsort(everyone_fitness)], axis=0)\n",
    "        return sorted_all[:len(population)]"
   ]
  },
  {
   "cell_type": "code",
   "execution_count": null,
   "id": "3570174a-5434-4b79-8b12-ec265fa8a5ad",
   "metadata": {},
   "outputs": [],
   "source": []
  },
  {
   "cell_type": "code",
   "execution_count": null,
   "id": "13735abb-4bc2-4dea-995a-b0f3650a783e",
   "metadata": {},
   "outputs": [],
   "source": [
    "class Replacement(Replacement):\n",
    "    def _elitism(self, offspring: np.array, offspring_fitness: np.array, population: np.array, population_fitness: np.array) -> np.array:\n",
    "        elitism_width = self.params['elitism_width']\n",
    "        sorted_offspring = np.flip(offspring[np.argsort(offspring_fitness)], axis=0)\n",
    "        sorted_population = np.flip(population[np.argsort(population_fitness)], axis=0)\n",
    "        number_survived_parents = round(len(population) * elitism_width)\n",
    "        number_offspring_survived = len(population) - number_survived_parents\n",
    "        return np.concatenate((sorted_population[:number_survived_parents], sorted_offspring[:number_offspring_survived]))"
   ]
  },
  {
   "cell_type": "code",
   "execution_count": null,
   "id": "ef2f2b66-a775-4123-980c-309be061d4fd",
   "metadata": {},
   "outputs": [],
   "source": []
  },
  {
   "cell_type": "code",
   "execution_count": null,
   "id": "00a2f71a-0acf-4e41-8d21-262f1a64c13c",
   "metadata": {},
   "outputs": [],
   "source": [
    "class Replacement(Replacement):\n",
    "    def _random(self, offspring: np.array, offspring_fitness: np.array, population: np.array, population_fitness: np.array) -> np.array:\n",
    "        everyone = np.concatenate((offspring, population))\n",
    "        return np.array(random.choices(everyone, k=len(population)))"
   ]
  },
  {
   "cell_type": "markdown",
   "id": "ab3350e5-ec3a-4245-9520-c826626d94a6",
   "metadata": {},
   "source": [
    "## Replacement class"
   ]
  },
  {
   "cell_type": "code",
   "execution_count": null,
   "id": "6690c6e2-c4a0-4f6c-b953-415ad8cd035c",
   "metadata": {},
   "outputs": [],
   "source": [
    "class Replacement(Replacement):\n",
    "    VALID_REPLACEMENT_STRATS = ['best',\n",
    "                               'elitism',\n",
    "                               'random']\n",
    "    DEFAULT_ELITISM_WIDTH = 0.05\n",
    "\n",
    "    def get_possible_strats(self):\n",
    "        return str(self.VALID_REPLACEMENT_STRATS)\n",
    "    \n",
    "    def _check_params(self, replacement_strat: str):\n",
    "        if not replacement_strat in self.VALID_REPLACEMENT_STRATS:\n",
    "            raise ValueError('Replacement strategy name is not recognised, you can use replacement_strat=' + self.get_possible_strats())\n",
    "\n",
    "    def _set_replacement(self, replacement_strat: str, **kwargs):\n",
    "        if(replacement_strat == 'best'):\n",
    "            self._replacement = self._best_n\n",
    "            \n",
    "        elif(replacement_strat == 'elitism'):\n",
    "            self._replacement = self._elitism\n",
    "            check_parameter(self, 'elitism_width', 'elitism', 'replacement', self.DEFAULT_ELITISM_WIDTH, (float), kwargs)\n",
    "            if(self.params['elitism_width'] >= 1.0):\n",
    "                self.params['elitism_width'] = 1.0\n",
    "                warnings.warn('Setting elitism width to be more than 1 (100%) means than all of the original population will surivive all the time.')\n",
    "        \n",
    "        elif(replacement_strat == 'random'):\n",
    "            self._replacement = self._random\n",
    "        \n",
    "        else:\n",
    "            raise AssertionError('Replacement strategy name exist in the valid replacement strategies but was not found')\n",
    "    \n",
    "    def __init__(self, replacement_strat: str, *, elitism_width=None):\n",
    "        self._replacement_strat = replacement_strat\n",
    "        self._check_params(replacement_strat)\n",
    "        self._set_replacement(replacement_strat, elitism_width=elitism_width)\n",
    "\n",
    "    def replace(self, offspring: np.array, offspring_fitness: np.array, population: np.array, population_fitness: np.array) -> np.array:\n",
    "        return self._replacement(offspring, offspring_fitness, population, population_fitness)"
   ]
  },
  {
   "cell_type": "markdown",
   "id": "780ae2f0-4f40-45bb-b789-67bb434a44db",
   "metadata": {},
   "source": [
    "## Mutation"
   ]
  },
  {
   "cell_type": "code",
   "execution_count": null,
   "id": "0a0c5a03-75ce-4c47-beba-5b5ce94b4b1f",
   "metadata": {},
   "outputs": [],
   "source": [
    "class Mutation():\n",
    "    #This is not constructor intended to be used if you are not debugging or expanding library\n",
    "    def __init__(self, mode: str):\n",
    "        valid = ['debug', 'demo']\n",
    "        if not mode in valid:\n",
    "            raise ValueError('Unknown mode')"
   ]
  },
  {
   "cell_type": "markdown",
   "id": "c8352c05-a11e-4e29-81c2-5f7050246ce2",
   "metadata": {},
   "source": [
    "### Random mutation"
   ]
  },
  {
   "cell_type": "markdown",
   "id": "7ce6ba7a-b9e4-4991-b4a3-818a5cc3cee3",
   "metadata": {
    "editable": true,
    "slideshow": {
     "slide_type": ""
    },
    "tags": []
   },
   "source": [
    "Random mutation 'moves' individual in the certain range.<br>\n",
    "$x_{new} = x + r * n$ where<br>\n",
    "$r$ is the parameter and $r$ represents mutation strength. Individuals will change in range $[x-r, x+r]$.<br>\n",
    "$n$ is random number and $n \\in [-1, 1]$"
   ]
  },
  {
   "cell_type": "code",
   "execution_count": null,
   "id": "6448c16d-01b3-4bdd-98a2-2053a0d718ca",
   "metadata": {
    "editable": true,
    "slideshow": {
     "slide_type": ""
    },
    "tags": []
   },
   "outputs": [],
   "source": [
    "class Mutation(Mutation):\n",
    "    def _random_mutation(self, population: np.array, mutation_probability: float, dimension_probability: float):\n",
    "        mutation_strength = self.params['mutation_strength']\n",
    "        dimension_probability = dimension_probability if len(population[0]) > 1 else 1 #If there is more than 1 dimension we look at dimension_probability\n",
    "        for i in range(len(population)):\n",
    "            if(random.random() > mutation_probability): continue\n",
    "            individual = population[i]\n",
    "            for j in range(len(individual)):\n",
    "                if(random.random() > dimension_probability): continue\n",
    "                population[i][j] += mutation_strength * (2 * (random.random() - 0.5))\n",
    "            "
   ]
  },
  {
   "cell_type": "markdown",
   "id": "edd87f9a-bc2d-47e4-ae21-ce93d663f854",
   "metadata": {
    "editable": true,
    "jp-MarkdownHeadingCollapsed": true,
    "slideshow": {
     "slide_type": ""
    },
    "tags": []
   },
   "source": [
    "#### Demo"
   ]
  },
  {
   "cell_type": "code",
   "execution_count": null,
   "id": "93e85522-5529-4139-9baa-b81fcdadd04b",
   "metadata": {
    "editable": true,
    "jupyter": {
     "source_hidden": true
    },
    "slideshow": {
     "slide_type": ""
    },
    "tags": [
     "hide-input"
    ]
   },
   "outputs": [],
   "source": [
    "mutation = Mutation('demo')\n",
    "mutation_strength1 = 0.5\n",
    "mutation_strength2 = 2\n",
    "\n",
    "sistem_size = 2\n",
    "\n",
    "original_individual = np.empty(sistem_size)\n",
    "\n",
    "for i in range(sistem_size):\n",
    "    original_individual[i] = random.random()\n",
    "\n",
    "number_of_tries = 20\n",
    "\n",
    "mutations1 = np.full_like(np.empty(shape=(number_of_tries, sistem_size)), original_individual)#[-10, -10] is placeholder to give array a shape of (1, 2)\n",
    "mutation._mutation_strength = mutation_strength1\n",
    "mutation._random_mutation(mutations1, 1, 1)\n",
    "\n",
    "mutations2 = np.full_like(np.empty(shape=(number_of_tries, sistem_size)), original_individual)#[-10, -10] is placeholder to give array a shape of (1, 2)\n",
    "mutation._mutation_strength = mutation_strength2\n",
    "mutation._random_mutation(mutations2, 1, 1)\n",
    "\n",
    "#Plotting\n",
    "fig1, axs1 = plt.subplots(ncols=2, width_ratios=[1, 1], figsize=(15, 5.5))\n",
    "sns.set_theme(style='darkgrid', context='notebook')\n",
    "\n",
    "\n",
    "center = original_individual\n",
    "#First plot\n",
    "axs1[0].add_patch(\n",
    "    patches.Rectangle((center[0]-mutation_strength1, center[1]-mutation_strength1), mutation_strength1*2, mutation_strength1*2, color=(249/255.0, 86/255.0, 86/255.0, 0.8), label='Possible locations after mutation'))\n",
    "sns.scatterplot(x=[individual[0] for individual in mutations1], y=[individual[1] for individual in mutations1], ax=axs1[0], label='Mutated individuals')\n",
    "sns.scatterplot(x=[original_individual[0]], y=[original_individual[1]], ax=axs1[0], label='Original individual')\n",
    "\n",
    "\n",
    "#Second plot\n",
    "axs1[1].add_patch(\n",
    "    patches.Rectangle((center[0]-mutation_strength2, center[1]-mutation_strength2), mutation_strength2*2, mutation_strength2*2, color=(249/255.0, 86/255.0, 86/255.0, 0.8), label='Possible locations after mutation'))\n",
    "sns.scatterplot(x=[individual[0] for individual in mutations2], y=[individual[1] for individual in mutations2], ax=axs1[1], label='Mutated individuals')\n",
    "sns.scatterplot(x=[original_individual[0]], y=[original_individual[1]], ax=axs1[1], label='Original individual')\n",
    "\n",
    "axs1[0].legend(loc=2)\n",
    "axs1[1].legend(loc=2)\n",
    "\n",
    "\n",
    "axs1[0].set_xlim([-3.2, 3.2])\n",
    "axs1[0].set_ylim([-3.2, 3.2])\n",
    "\n",
    "axs1[1].set_xlim([-3.2, 3.2])\n",
    "axs1[1].set_ylim([-3.2, 3.2])\n",
    "\n",
    "fig1.suptitle('Random mutation demo')\n",
    "axs1[0].set_title('Mutation strength = 0.5')\n",
    "axs1[1].set_title('Mutation strength = 2')\n",
    "axs1[0].set_xlabel('First coordinate')\n",
    "axs1[0].set_ylabel('Second coordinate')\n",
    "axs1[1].set_xlabel('First coordinate')\n",
    "axs1[1].set_ylabel('Second coordinate')"
   ]
  },
  {
   "cell_type": "markdown",
   "id": "f7378105-fea3-49ea-9d0d-bd649586804a",
   "metadata": {
    "editable": true,
    "slideshow": {
     "slide_type": ""
    },
    "tags": []
   },
   "source": [
    "### Nonuniform mutation"
   ]
  },
  {
   "cell_type": "markdown",
   "id": "c51dd210-ddd8-48c9-88ff-9516e3c9d2b2",
   "metadata": {
    "editable": true,
    "slideshow": {
     "slide_type": ""
    },
    "tags": []
   },
   "source": [
    "Nonuniform mutation is described with following equation:<br>\n",
    "$\\Large x_{new} = x + \\tau(x_{max} - x_{min})(1-r^{(1-t/t_{max})^b})$<br>\n",
    "$\\tau \\in \\{-1, 1\\}$<br>\n",
    "$r \\in [0, 1]$<br>\n",
    "$t_{max}$ is the maximum number of generation<br>\n",
    "$t$ is the current generation<br>\n",
    "$x_{max}$ and $x_{min}$ are maximal and minimal bound of values $x$ can take."
   ]
  },
  {
   "cell_type": "code",
   "execution_count": null,
   "id": "27f60029-8e56-4264-85ab-a50c46c3ad8d",
   "metadata": {
    "editable": true,
    "slideshow": {
     "slide_type": ""
    },
    "tags": []
   },
   "outputs": [],
   "source": [
    "class Mutation(Mutation):\n",
    "    #Need to change the names of variables\n",
    "    def _nonuniform_mutation(self, population: np.array, mutation_probability: float, dimension_probability: float):\n",
    "        maximum_generations = self._maximum_generations\n",
    "        current_generation = self._current_generation\n",
    "        mutation_strength = self.params['mutation_strength']\n",
    "        b = self.params['b']\n",
    "        dimension_probability = dimension_probability if len(population[0]) > 1 else 1\n",
    "        \n",
    "        for i in range(len(population)):\n",
    "            if(random.random() > mutation_probability): continue\n",
    "            individual = population[i]\n",
    "            for j in range(len(individual)):\n",
    "                if(random.random() > dimension_probability): continue\n",
    "                tau = -1 if random.randrange(2) == 0 else 1\n",
    "                population[i,j] += tau*(mutation_strength)*(1 - random.random()**(1-current_generation/maximum_generations)**b)"
   ]
  },
  {
   "cell_type": "markdown",
   "id": "0c9b9bfe-cdac-4d07-be90-3884d00a9bd6",
   "metadata": {
    "editable": true,
    "jp-MarkdownHeadingCollapsed": true,
    "slideshow": {
     "slide_type": ""
    },
    "tags": []
   },
   "source": [
    "#### Demo"
   ]
  },
  {
   "cell_type": "markdown",
   "id": "55a436bb-f0a8-4589-acda-813e997ac6fe",
   "metadata": {},
   "source": [
    "In the example bellow we are going to look at the change of the current generation as well as the change of the parameter b of the nonuniform generation."
   ]
  },
  {
   "cell_type": "code",
   "execution_count": null,
   "id": "84860600-fa43-45f1-a8ab-159c45d255c2",
   "metadata": {
    "editable": true,
    "jupyter": {
     "source_hidden": true
    },
    "slideshow": {
     "slide_type": ""
    },
    "tags": [
     "hide-input"
    ]
   },
   "outputs": [],
   "source": [
    "#If you want to see demo with different parameters, change them here\n",
    "b1 = 1\n",
    "b2 = 2\n",
    "current_generation1 = 100\n",
    "current_generation2 = 900\n",
    "################\n",
    "\n",
    "\n",
    "\n",
    "mutation = Mutation('demo')\n",
    "mutation._maximum_generations = 1000\n",
    "mutation._mutation_strength = 2\n",
    "\n",
    "sistem_size = 2\n",
    "\n",
    "original_individual = np.empty(sistem_size)\n",
    "\n",
    "for i in range(sistem_size):\n",
    "    original_individual[i] = random.random()\n",
    "\n",
    "number_of_tries = 20\n",
    "\n",
    "mutations1 = np.full_like(np.empty(shape=(number_of_tries, sistem_size)), original_individual)#[-10, -10] is placeholder to give array a shape of (1, 2)\n",
    "mutation._current_generation = current_generation1\n",
    "mutation._b = b1\n",
    "mutation._nonuniform_mutation(mutations1, 1, 1)\n",
    "\n",
    "mutations2 = np.full_like(np.empty(shape=(number_of_tries, sistem_size)), original_individual)#[-10, -10] is placeholder to give array a shape of (1, 2)\n",
    "mutation._current_generation = current_generation2\n",
    "mutation._b = b1\n",
    "mutation._nonuniform_mutation(mutations2, 1, 1)\n",
    "\n",
    "mutations3 = np.full_like(np.empty(shape=(number_of_tries, sistem_size)), original_individual)#[-10, -10] is placeholder to give array a shape of (1, 2)\n",
    "mutation._current_generation = current_generation1\n",
    "mutation._b = b2\n",
    "mutation._nonuniform_mutation(mutations3, 1, 1)\n",
    "\n",
    "mutations4 = np.full_like(np.empty(shape=(number_of_tries, sistem_size)), original_individual)#[-10, -10] is placeholder to give array a shape of (1, 2)\n",
    "mutation._current_generation = current_generation2\n",
    "mutation._b = b2\n",
    "mutation._nonuniform_mutation(mutations4, 1, 1)\n",
    "\n",
    "#Plotting\n",
    "fig1, axs1 = plt.subplots(ncols=2, width_ratios=[1, 1], figsize=(15, 5.5))\n",
    "sns.set_theme(style='darkgrid', context='notebook')\n",
    "fig2, axs2 = plt.subplots(ncols=2, width_ratios=[1, 1], figsize=(15, 5.5))\n",
    "sns.set_theme(style='darkgrid', context='notebook')\n",
    "\n",
    "#First plot\n",
    "sns.scatterplot(x=[individual[0] for individual in mutations1], y=[individual[1] for individual in mutations1], ax=axs1[0], label='Mutated creatures')\n",
    "sns.scatterplot(x=[original_individual[0]], y=[original_individual[1]], ax=axs1[0], label='Original individual')\n",
    "\n",
    "#Second plot\n",
    "sns.scatterplot(x=[individual[0] for individual in mutations2], y=[individual[1] for individual in mutations2], ax=axs1[1], label='Mutated creatures')\n",
    "sns.scatterplot(x=[original_individual[0]], y=[original_individual[1]], ax=axs1[1], label='Original individual')\n",
    "\n",
    "#Third plot\n",
    "sns.scatterplot(x=[individual[0] for individual in mutations3], y=[individual[1] for individual in mutations3], ax=axs2[0], label='Mutated creatures')\n",
    "sns.scatterplot(x=[original_individual[0]], y=[original_individual[1]], ax=axs2[0], label='Original individual')\n",
    "\n",
    "#Fourth plot\n",
    "sns.scatterplot(x=[individual[0] for individual in mutations4], y=[individual[1] for individual in mutations4], ax=axs2[1], label='Mutated creatures')\n",
    "sns.scatterplot(x=[original_individual[0]], y=[original_individual[1]], ax=axs2[1], label='Original individual')\n",
    "\n",
    "\n",
    "axs1[0].legend(loc=2)\n",
    "axs1[1].legend(loc=2)\n",
    "axs2[0].legend(loc=2)\n",
    "axs2[1].legend(loc=2)\n",
    "\n",
    "axs1[0].set_xlim([-3.2, 3.2])\n",
    "axs1[0].set_ylim([-3.2, 3.2])\n",
    "\n",
    "axs1[1].set_xlim([-3.2, 3.2])\n",
    "axs1[1].set_ylim([-3.2, 3.2])\n",
    "\n",
    "axs2[0].set_xlim([-3.2, 3.2])\n",
    "axs2[0].set_ylim([-3.2, 3.2])\n",
    "\n",
    "axs2[1].set_xlim([-3.2, 3.2])\n",
    "axs2[1].set_ylim([-3.2, 3.2])\n",
    "\n",
    "\n",
    "fig1.suptitle('Nonuniform mutation demo')\n",
    "axs1[0].set_title(f'Current generation = {current_generation1}, b = {b1}')\n",
    "axs1[1].set_title(f'Current generation = {current_generation2}, b = {b1}')\n",
    "axs1[0].set_xlabel('First coordinate')\n",
    "axs1[0].set_ylabel('Second coordinate')\n",
    "axs1[1].set_xlabel('First coordinate')\n",
    "axs1[1].set_ylabel('Second coordinate')\n",
    "\n",
    "fig2.suptitle('')\n",
    "axs2[0].set_title(f'Current generation = {current_generation1}, b = {b2}')\n",
    "axs2[1].set_title(f'Current generation = {current_generation2}, b = {b2}')\n",
    "axs2[0].set_xlabel('First coordinate')\n",
    "axs2[0].set_ylabel('Second coordinate')\n",
    "axs2[1].set_xlabel('First coordinate')\n",
    "axs2[1].set_ylabel('Second coordinate')"
   ]
  },
  {
   "cell_type": "markdown",
   "id": "b06afb1d-4d5b-40c9-bd79-78e70b24e38d",
   "metadata": {
    "editable": true,
    "slideshow": {
     "slide_type": ""
    },
    "tags": []
   },
   "source": [
    "### Normally distributed mutation"
   ]
  },
  {
   "cell_type": "markdown",
   "id": "7f90460e-7a82-4fcd-a532-162f66bf31dd",
   "metadata": {},
   "source": [
    "Normally distributed mutation mutates individuals with Gaussian distribution.<br>\n",
    "$x_{new} = x + \\text{N}(0, \\sigma)$"
   ]
  },
  {
   "cell_type": "code",
   "execution_count": null,
   "id": "5a2c84e7-dbf3-44db-ae83-8e80f1e692af",
   "metadata": {},
   "outputs": [],
   "source": [
    "class Mutation(Mutation):\n",
    "    def _normally_distributed_mutaiton(self, population: np.array, mutation_probability: float, dimension_probability: float):\n",
    "        standard_deviation = self.params['standard_deviation']\n",
    "        for i in range(len(population)):\n",
    "            if(random.random() > mutation_probability): continue\n",
    "            individual = population[i]\n",
    "            for j in range(len(individual)):\n",
    "                if(random.random() > dimension_probability): continue\n",
    "                population[i,j] += random.gauss(mu=0, sigma=standard_deviation)"
   ]
  },
  {
   "cell_type": "markdown",
   "id": "1e228ca1-5968-405a-a914-0fd0cb80fea3",
   "metadata": {
    "jp-MarkdownHeadingCollapsed": true
   },
   "source": [
    "#### Demo"
   ]
  },
  {
   "cell_type": "code",
   "execution_count": null,
   "id": "4fda192d-1d53-4f3b-9215-90a99e22cfcd",
   "metadata": {
    "jupyter": {
     "source_hidden": true
    }
   },
   "outputs": [],
   "source": [
    "mutation = Mutation('demo')\n",
    "\n",
    "sistem_size = 2\n",
    "\n",
    "original_individual = np.empty(sistem_size)\n",
    "\n",
    "for i in range(sistem_size):\n",
    "    original_individual[i] = random.random()\n",
    "\n",
    "number_of_tries = 20\n",
    "\n",
    "mutations1 = np.full_like(np.empty(shape=(number_of_tries, sistem_size)), original_individual)#[-10, -10] is placeholder to give array a shape of (1, 2)\n",
    "mutation._standard_deviation = 0.5\n",
    "mutation._normally_distributed_mutaiton(mutations1, 1, 1)\n",
    "\n",
    "mutations2 = np.full_like(np.empty(shape=(number_of_tries, sistem_size)), original_individual)#[-10, -10] is placeholder to give array a shape of (1, 2)\n",
    "mutation._standard_deviation = 2.5\n",
    "mutation._normally_distributed_mutaiton(mutations2, 1, 1)\n",
    "\n",
    "#Plotting\n",
    "fig1, axs1 = plt.subplots(ncols=2, width_ratios=[1, 1], figsize=(15, 5.5))\n",
    "sns.set_theme(style='darkgrid', context='notebook')\n",
    "\n",
    "#First plot\n",
    "sns.scatterplot(x=[individual[0] for individual in mutations1], y=[individual[1] for individual in mutations1], ax=axs1[0], label='Mutated creatures')\n",
    "sns.scatterplot(x=[original_individual[0]], y=[original_individual[1]], ax=axs1[0], label='Original individual')\n",
    "\n",
    "#Second plot\n",
    "sns.scatterplot(x=[individual[0] for individual in mutations2], y=[individual[1] for individual in mutations2], ax=axs1[1], label='Mutated creatures')\n",
    "sns.scatterplot(x=[original_individual[0]], y=[original_individual[1]], ax=axs1[1], label='Original individual')\n",
    "\n",
    "axs1[0].legend(loc=2)\n",
    "axs1[1].legend(loc=2)\n",
    "\n",
    "\n",
    "axs1[0].set_xlim([-3.2, 3.2])\n",
    "axs1[0].set_ylim([-3.2, 3.2])\n",
    "\n",
    "axs1[1].set_xlim([-3.2, 3.2])\n",
    "axs1[1].set_ylim([-3.2, 3.2])\n",
    "\n",
    "fig1.suptitle('Normally distributed mutation demo')\n",
    "axs1[0].set_title('Standard deviation = 1')\n",
    "axs1[1].set_title('Standard deviation = 3')\n",
    "axs1[0].set_xlabel('First coordinate')\n",
    "axs1[0].set_ylabel('Second coordinate')\n",
    "axs1[1].set_xlabel('First coordinate')\n",
    "axs1[1].set_ylabel('Second coordinate')"
   ]
  },
  {
   "cell_type": "markdown",
   "id": "1e639ba6-ffb6-424f-8576-f671ff3ab144",
   "metadata": {},
   "source": [
    "## Mutation class"
   ]
  },
  {
   "cell_type": "code",
   "execution_count": null,
   "id": "1f2a9cfd-c09f-4d35-8069-be29e97c0dfc",
   "metadata": {},
   "outputs": [],
   "source": [
    "class Mutation(Mutation):\n",
    "    VALID_MUTATION_STRATS = ['random',\n",
    "                             'nonuniform',\n",
    "                             'normal',]\n",
    "    DEFAULT_B = 1.0\n",
    "    DEFAULT_MUTATION_STRENGTH = 0.2\n",
    "    DEFAULT_STANDARD_DEVIATION = 1.0\n",
    "\n",
    "    def get_possible_strats(self):\n",
    "        return str(self.VALID_MUTATION_STRATS)\n",
    "    \n",
    "    def _check_params(self, mutation_strat: str):\n",
    "        if not mutation_strat in self.VALID_MUTATION_STRATS:\n",
    "            raise ValueError('Mutation strategy name is not recognised, you can use mutation_strat=' + self.get_possible_strats())\n",
    "\n",
    "    def _set_mutation(self, mutation_strat: str, **kwargs):\n",
    "        if(mutation_strat == 'random'):\n",
    "            self._mutation = self._random_mutation\n",
    "            check_parameter(self, 'mutation_strength', 'random', 'mutation', self.DEFAULT_MUTATION_STRENGTH, (int, float), kwargs)\n",
    "            self.params['mutation_strength'] = float(self.params['mutation_strength'])\n",
    "        \n",
    "        elif(mutation_strat == 'nonuniform'):\n",
    "            self._mutation = self._nonuniform_mutation\n",
    "            check_parameter(self, 'b', 'nonuniform', 'mutation', self.DEFAULT_B, (int, float), kwargs)\n",
    "            self.params['b'] = float(self.params['b'])\n",
    "            check_parameter(self, 'mutation_strength', 'nonuniform', 'mutation', self.DEFAULT_MUTATION_STRENGTH, (int, float), kwargs)\n",
    "            self.params['mutation_strength'] = float(self.params['mutation_strength'])\n",
    "            \n",
    "        elif(mutation_strat == 'normal'):\n",
    "            self._mutation = self._normally_distributed_mutaiton\n",
    "            check_parameter(self, 'standard_deviation', 'normal', 'mutation', self.DEFAULT_STANDARD_DEVIATION, (int, float), kwargs)\n",
    "            self.params['standard_deviation'] = float(self.params['standard_deviation'])\n",
    "        \n",
    "        else:\n",
    "            raise AssertionError('Mutation strategy name exist in the valid mutation strategies but was not found')\n",
    "    \n",
    "    def __init__(self, mutation_strat: str, mutation_probability: float, dimension_probability: float, *, b=None, standard_deviation=None, mutation_strength=None):\n",
    "        self._check_params(mutation_strat)\n",
    "        self._set_mutation(mutation_strat, b=b, standard_deviation=standard_deviation, mutation_strength=mutation_strength)\n",
    "        self._mutation_probability = mutation_probability\n",
    "        self._dimension_probability = dimension_probability"
   ]
  },
  {
   "cell_type": "code",
   "execution_count": null,
   "id": "678eb364-0255-4e9a-aacf-ff4cead935c1",
   "metadata": {},
   "outputs": [],
   "source": [
    "class Mutation(Mutation):\n",
    "    def initialize(self, maximum_generations: int):\n",
    "        self._maximum_generations = maximum_generations\n",
    "        self._current_generation = 1\n",
    "\n",
    "    def update(self):\n",
    "        self._current_generation += 1\n",
    "\n",
    "    def mutate_population(self, population: np.array) -> None:\n",
    "        self._mutation(population, self._mutation_probability, self._dimension_probability)\n",
    "        "
   ]
  },
  {
   "cell_type": "markdown",
   "id": "d4a83144-5dbd-4fed-a348-f4925f5f62f1",
   "metadata": {},
   "source": [
    "## Main class"
   ]
  },
  {
   "cell_type": "code",
   "execution_count": null,
   "id": "92c09c92-4a40-488a-89a0-35e25bdc629e",
   "metadata": {},
   "outputs": [],
   "source": [
    "class GA():\n",
    "    def __init__(self, fitness: Fitness, selection: Selection, crossover: Crossover, replacement: Replacement, mutation: Mutation):\n",
    "        self._population = None\n",
    "        self._fitness = fitness\n",
    "        self._selection = selection\n",
    "        self._crossover = crossover\n",
    "        self._replacement = replacement\n",
    "        self._mutation = mutation\n",
    "        \n",
    "    def initialize_population(self, number_of_individuals: int, interval_min: int, interval_max: int):\n",
    "        system_size = fitness.system_size\n",
    "        self._population = np.empty((number_of_individuals, system_size))\n",
    "        for i in range(number_of_individuals):\n",
    "            individual = np.empty((system_size, ))\n",
    "            for j in range(system_size):\n",
    "                individual[j] = random.uniform(interval_min, interval_max)\n",
    "            self._population[i] = np.copy(individual)\n",
    "        self._population = self._fitness.rank(self._population)\n",
    "\n",
    "    def run(self, number_of_individuals: int, interval_min: int, interval_max: int, rounds, *, save=False, file_name='ga', verbose=0, early_stopping_rounds=-1, run_times=1, fitness_function_name='Not given'):\n",
    "        \n",
    "        #Variables for storing all runs best individuals and other info\n",
    "        best_individuals = []\n",
    "        best_fitness_values = []\n",
    "        total_rounds = []\n",
    "        times = []\n",
    "        \n",
    "        for k in range(run_times):\n",
    "            start_time = time.time()\n",
    "\n",
    "            self.initialize_population(number_of_individuals, interval_min, interval_max)\n",
    "            max_ind = self._population[0]\n",
    "            max_fit = fitness.funciton(max_ind)\n",
    "            \n",
    "            self._mutation.initialize(rounds)\n",
    "            round_without_new_max = 0\n",
    "            for i in range(rounds):\n",
    "                round_without_new_max += 1\n",
    "                \n",
    "                mating_pool = self._selection.select_mating_pool(self._population, self._fitness, number_of_individuals)\n",
    "                offspring = self._crossover.generate_offspring(mating_pool, self._fitness)\n",
    "                self._mutation.mutate_population(offspring)\n",
    "                self._population = self._replacement.replace(offspring, self._fitness.calculate_fitness(offspring),\n",
    "                                                             self._population, self._fitness.calculate_fitness(self._population))\n",
    "                self._mutation.update()\n",
    "                self._population = self._fitness.rank(self._population)\n",
    "                round_max_fit = self._fitness.funciton(self._population[0])\n",
    "\n",
    "                #Printing progress\n",
    "                if verbose and verbose > 0:\n",
    "                    if i % verbose == 0:\n",
    "                        print(f'Printing info for run {k} and round {i}:\\n'\n",
    "                             +f'\\t Current max fit:{max_fit}\\n'\n",
    "                             +f'\\t Current max ind:{max_ind}\\n'\n",
    "                             +f'\\t Round max fit:{round_max_fit}\\n'\n",
    "                             +f'\\t Round max ind:{self._population[0]}\\n')\n",
    "\n",
    "                #Checking for new best\n",
    "                if(round_max_fit > max_fit):\n",
    "                    max_fit = round_max_fit\n",
    "                    max_ind = self._population[0]\n",
    "                    round_without_new_max = 0\n",
    "\n",
    "                #Checking for early stropping\n",
    "                if(round_without_new_max >= early_stopping_rounds and early_stopping_rounds > 0):\n",
    "                    break\n",
    "            end_time = time.time()\n",
    "            \n",
    "            print(f'Time to execute {k} run is: {end_time - start_time}')\n",
    "            if(round_without_new_max >= early_stopping_rounds and early_stopping_rounds > 0):\n",
    "                print('Stopped due to reaching early_stopping_rounds')\n",
    "            print(f'Found solution in {i} round.')\n",
    "            print(f'Best individual fitness: {max_fit}')\n",
    "            print(f'Individual value is: {max_ind}')\n",
    "\n",
    "            #Storing run info\n",
    "            best_individuals.append(max_ind)\n",
    "            best_fitness_values.append(max_fit)\n",
    "            total_rounds.append(i)\n",
    "            times.append(end_time-start_time)\n",
    "        #End of all runs\n",
    "    \n",
    "    def save_to_file(self, file_name: str):\n",
    "        if not file_name.endswith('.txt'):\n",
    "            file_name.removesuffix('.txt')\n",
    "        try:\n",
    "            f = open(file_name + '.txt', 'x')\n",
    "        except FileExistsError:\n",
    "            i = 0\n",
    "            while True:\n",
    "                try:\n",
    "                    f = open(file_name+'_'+str(i)+'.txt', 'x')\n",
    "                    break\n",
    "                except FileExistsError:\n",
    "                    i += 1\n",
    "        #Have f file\n",
    "        #TODO write\n",
    "        f.write('')\n",
    "        f.write('Hello')\n",
    "\n",
    "    def read_from_file(self):\n",
    "        #TODO\n",
    "        pass"
   ]
  }
 ],
 "metadata": {
  "kernelspec": {
   "display_name": "Python 3 (ipykernel)",
   "language": "python",
   "name": "python3"
  },
  "language_info": {
   "codemirror_mode": {
    "name": "ipython",
    "version": 3
   },
   "file_extension": ".py",
   "mimetype": "text/x-python",
   "name": "python",
   "nbconvert_exporter": "python",
   "pygments_lexer": "ipython3",
   "version": "3.10.12"
  }
 },
 "nbformat": 4,
 "nbformat_minor": 5
}
